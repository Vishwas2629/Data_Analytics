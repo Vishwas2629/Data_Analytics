{
 "cells": [
  {
   "cell_type": "code",
   "execution_count": 24,
   "metadata": {
    "_cell_guid": "79c7e3d0-c299-4dcb-8224-4455121ee9b0",
    "_uuid": "d629ff2d2480ee46fbb7e2d37f6b5fab8052498a",
    "execution": {
     "iopub.execute_input": "2020-12-16T08:21:29.905800Z",
     "iopub.status.busy": "2020-12-16T08:21:29.904943Z",
     "iopub.status.idle": "2020-12-16T08:21:31.517864Z",
     "shell.execute_reply": "2020-12-16T08:21:31.516975Z"
    },
    "papermill": {
     "duration": 1.635208,
     "end_time": "2020-12-16T08:21:31.518026",
     "exception": false,
     "start_time": "2020-12-16T08:21:29.882818",
     "status": "completed"
    },
    "tags": []
   },
   "outputs": [],
   "source": [
    "#Libraries\n",
    "import numpy as np\n",
    "import pandas as pd\n",
    "import matplotlib.pyplot as plt\n",
    "import seaborn as sns\n",
    "from scipy import stats\n",
    "from sklearn.preprocessing import StandardScaler\n",
    "from sklearn.cluster import KMeans\n",
    "from sklearn.tree import DecisionTreeClassifier\n",
    "from sklearn.model_selection import train_test_split\n",
    "from sklearn.metrics import classification_report\n",
    "from sklearn import tree\n",
    "from sklearn import metrics"
   ]
  },
  {
   "cell_type": "code",
   "execution_count": 25,
   "metadata": {},
   "outputs": [
    {
     "data": {
      "text/plain": [
       "Index(['CUST_ID', 'BALANCE', 'BALANCE_FREQUENCY', 'PURCHASES',\n",
       "       'ONEOFF_PURCHASES', 'INSTALLMENTS_PURCHASES', 'CASH_ADVANCE',\n",
       "       'PURCHASES_FREQUENCY', 'ONEOFF_PURCHASES_FREQUENCY',\n",
       "       'PURCHASES_INSTALLMENTS_FREQUENCY', 'CASH_ADVANCE_FREQUENCY',\n",
       "       'CASH_ADVANCE_TRX', 'PURCHASES_TRX', 'CREDIT_LIMIT', 'PAYMENTS',\n",
       "       'MINIMUM_PAYMENTS', 'PRC_FULL_PAYMENT', 'TENURE'],\n",
       "      dtype='object')"
      ]
     },
     "execution_count": 25,
     "metadata": {},
     "output_type": "execute_result"
    }
   ],
   "source": [
    "data = pd.read_csv(r'D:\\Documents\\Teesside University\\DA/CC GENERAL.csv')\n",
    "data.head()\n",
    "data.columns"
   ]
  },
  {
   "cell_type": "code",
   "execution_count": 26,
   "metadata": {},
   "outputs": [
    {
     "data": {
      "text/plain": [
       "(8950, 18)"
      ]
     },
     "execution_count": 26,
     "metadata": {},
     "output_type": "execute_result"
    }
   ],
   "source": [
    "data.shape"
   ]
  },
  {
   "cell_type": "code",
   "execution_count": 27,
   "metadata": {},
   "outputs": [
    {
     "data": {
      "text/html": [
       "<div>\n",
       "<style scoped>\n",
       "    .dataframe tbody tr th:only-of-type {\n",
       "        vertical-align: middle;\n",
       "    }\n",
       "\n",
       "    .dataframe tbody tr th {\n",
       "        vertical-align: top;\n",
       "    }\n",
       "\n",
       "    .dataframe thead th {\n",
       "        text-align: right;\n",
       "    }\n",
       "</style>\n",
       "<table border=\"1\" class=\"dataframe\">\n",
       "  <thead>\n",
       "    <tr style=\"text-align: right;\">\n",
       "      <th></th>\n",
       "      <th>BALANCE</th>\n",
       "      <th>BALANCE_FREQUENCY</th>\n",
       "      <th>PURCHASES</th>\n",
       "      <th>ONEOFF_PURCHASES</th>\n",
       "      <th>INSTALLMENTS_PURCHASES</th>\n",
       "      <th>CASH_ADVANCE</th>\n",
       "      <th>PURCHASES_FREQUENCY</th>\n",
       "      <th>ONEOFF_PURCHASES_FREQUENCY</th>\n",
       "      <th>PURCHASES_INSTALLMENTS_FREQUENCY</th>\n",
       "      <th>CASH_ADVANCE_FREQUENCY</th>\n",
       "      <th>CASH_ADVANCE_TRX</th>\n",
       "      <th>PURCHASES_TRX</th>\n",
       "      <th>CREDIT_LIMIT</th>\n",
       "      <th>PAYMENTS</th>\n",
       "      <th>MINIMUM_PAYMENTS</th>\n",
       "      <th>PRC_FULL_PAYMENT</th>\n",
       "      <th>TENURE</th>\n",
       "    </tr>\n",
       "  </thead>\n",
       "  <tbody>\n",
       "    <tr>\n",
       "      <th>count</th>\n",
       "      <td>8950.000000</td>\n",
       "      <td>8950.000000</td>\n",
       "      <td>8950.000000</td>\n",
       "      <td>8950.000000</td>\n",
       "      <td>8950.000000</td>\n",
       "      <td>8950.000000</td>\n",
       "      <td>8950.000000</td>\n",
       "      <td>8950.000000</td>\n",
       "      <td>8950.000000</td>\n",
       "      <td>8950.000000</td>\n",
       "      <td>8950.000000</td>\n",
       "      <td>8950.000000</td>\n",
       "      <td>8949.000000</td>\n",
       "      <td>8950.000000</td>\n",
       "      <td>8637.000000</td>\n",
       "      <td>8950.000000</td>\n",
       "      <td>8950.000000</td>\n",
       "    </tr>\n",
       "    <tr>\n",
       "      <th>mean</th>\n",
       "      <td>1564.474828</td>\n",
       "      <td>0.877271</td>\n",
       "      <td>1003.204834</td>\n",
       "      <td>592.437371</td>\n",
       "      <td>411.067645</td>\n",
       "      <td>978.871112</td>\n",
       "      <td>0.490351</td>\n",
       "      <td>0.202458</td>\n",
       "      <td>0.364437</td>\n",
       "      <td>0.135144</td>\n",
       "      <td>3.248827</td>\n",
       "      <td>14.709832</td>\n",
       "      <td>4494.449450</td>\n",
       "      <td>1733.143852</td>\n",
       "      <td>864.206542</td>\n",
       "      <td>0.153715</td>\n",
       "      <td>11.517318</td>\n",
       "    </tr>\n",
       "    <tr>\n",
       "      <th>std</th>\n",
       "      <td>2081.531879</td>\n",
       "      <td>0.236904</td>\n",
       "      <td>2136.634782</td>\n",
       "      <td>1659.887917</td>\n",
       "      <td>904.338115</td>\n",
       "      <td>2097.163877</td>\n",
       "      <td>0.401371</td>\n",
       "      <td>0.298336</td>\n",
       "      <td>0.397448</td>\n",
       "      <td>0.200121</td>\n",
       "      <td>6.824647</td>\n",
       "      <td>24.857649</td>\n",
       "      <td>3638.815725</td>\n",
       "      <td>2895.063757</td>\n",
       "      <td>2372.446607</td>\n",
       "      <td>0.292499</td>\n",
       "      <td>1.338331</td>\n",
       "    </tr>\n",
       "    <tr>\n",
       "      <th>min</th>\n",
       "      <td>0.000000</td>\n",
       "      <td>0.000000</td>\n",
       "      <td>0.000000</td>\n",
       "      <td>0.000000</td>\n",
       "      <td>0.000000</td>\n",
       "      <td>0.000000</td>\n",
       "      <td>0.000000</td>\n",
       "      <td>0.000000</td>\n",
       "      <td>0.000000</td>\n",
       "      <td>0.000000</td>\n",
       "      <td>0.000000</td>\n",
       "      <td>0.000000</td>\n",
       "      <td>50.000000</td>\n",
       "      <td>0.000000</td>\n",
       "      <td>0.019163</td>\n",
       "      <td>0.000000</td>\n",
       "      <td>6.000000</td>\n",
       "    </tr>\n",
       "    <tr>\n",
       "      <th>25%</th>\n",
       "      <td>128.281915</td>\n",
       "      <td>0.888889</td>\n",
       "      <td>39.635000</td>\n",
       "      <td>0.000000</td>\n",
       "      <td>0.000000</td>\n",
       "      <td>0.000000</td>\n",
       "      <td>0.083333</td>\n",
       "      <td>0.000000</td>\n",
       "      <td>0.000000</td>\n",
       "      <td>0.000000</td>\n",
       "      <td>0.000000</td>\n",
       "      <td>1.000000</td>\n",
       "      <td>1600.000000</td>\n",
       "      <td>383.276166</td>\n",
       "      <td>169.123707</td>\n",
       "      <td>0.000000</td>\n",
       "      <td>12.000000</td>\n",
       "    </tr>\n",
       "    <tr>\n",
       "      <th>50%</th>\n",
       "      <td>873.385231</td>\n",
       "      <td>1.000000</td>\n",
       "      <td>361.280000</td>\n",
       "      <td>38.000000</td>\n",
       "      <td>89.000000</td>\n",
       "      <td>0.000000</td>\n",
       "      <td>0.500000</td>\n",
       "      <td>0.083333</td>\n",
       "      <td>0.166667</td>\n",
       "      <td>0.000000</td>\n",
       "      <td>0.000000</td>\n",
       "      <td>7.000000</td>\n",
       "      <td>3000.000000</td>\n",
       "      <td>856.901546</td>\n",
       "      <td>312.343947</td>\n",
       "      <td>0.000000</td>\n",
       "      <td>12.000000</td>\n",
       "    </tr>\n",
       "    <tr>\n",
       "      <th>75%</th>\n",
       "      <td>2054.140036</td>\n",
       "      <td>1.000000</td>\n",
       "      <td>1110.130000</td>\n",
       "      <td>577.405000</td>\n",
       "      <td>468.637500</td>\n",
       "      <td>1113.821139</td>\n",
       "      <td>0.916667</td>\n",
       "      <td>0.300000</td>\n",
       "      <td>0.750000</td>\n",
       "      <td>0.222222</td>\n",
       "      <td>4.000000</td>\n",
       "      <td>17.000000</td>\n",
       "      <td>6500.000000</td>\n",
       "      <td>1901.134317</td>\n",
       "      <td>825.485459</td>\n",
       "      <td>0.142857</td>\n",
       "      <td>12.000000</td>\n",
       "    </tr>\n",
       "    <tr>\n",
       "      <th>max</th>\n",
       "      <td>19043.138560</td>\n",
       "      <td>1.000000</td>\n",
       "      <td>49039.570000</td>\n",
       "      <td>40761.250000</td>\n",
       "      <td>22500.000000</td>\n",
       "      <td>47137.211760</td>\n",
       "      <td>1.000000</td>\n",
       "      <td>1.000000</td>\n",
       "      <td>1.000000</td>\n",
       "      <td>1.500000</td>\n",
       "      <td>123.000000</td>\n",
       "      <td>358.000000</td>\n",
       "      <td>30000.000000</td>\n",
       "      <td>50721.483360</td>\n",
       "      <td>76406.207520</td>\n",
       "      <td>1.000000</td>\n",
       "      <td>12.000000</td>\n",
       "    </tr>\n",
       "  </tbody>\n",
       "</table>\n",
       "</div>"
      ],
      "text/plain": [
       "            BALANCE  BALANCE_FREQUENCY     PURCHASES  ONEOFF_PURCHASES  \\\n",
       "count   8950.000000        8950.000000   8950.000000       8950.000000   \n",
       "mean    1564.474828           0.877271   1003.204834        592.437371   \n",
       "std     2081.531879           0.236904   2136.634782       1659.887917   \n",
       "min        0.000000           0.000000      0.000000          0.000000   \n",
       "25%      128.281915           0.888889     39.635000          0.000000   \n",
       "50%      873.385231           1.000000    361.280000         38.000000   \n",
       "75%     2054.140036           1.000000   1110.130000        577.405000   \n",
       "max    19043.138560           1.000000  49039.570000      40761.250000   \n",
       "\n",
       "       INSTALLMENTS_PURCHASES  CASH_ADVANCE  PURCHASES_FREQUENCY  \\\n",
       "count             8950.000000   8950.000000          8950.000000   \n",
       "mean               411.067645    978.871112             0.490351   \n",
       "std                904.338115   2097.163877             0.401371   \n",
       "min                  0.000000      0.000000             0.000000   \n",
       "25%                  0.000000      0.000000             0.083333   \n",
       "50%                 89.000000      0.000000             0.500000   \n",
       "75%                468.637500   1113.821139             0.916667   \n",
       "max              22500.000000  47137.211760             1.000000   \n",
       "\n",
       "       ONEOFF_PURCHASES_FREQUENCY  PURCHASES_INSTALLMENTS_FREQUENCY  \\\n",
       "count                 8950.000000                       8950.000000   \n",
       "mean                     0.202458                          0.364437   \n",
       "std                      0.298336                          0.397448   \n",
       "min                      0.000000                          0.000000   \n",
       "25%                      0.000000                          0.000000   \n",
       "50%                      0.083333                          0.166667   \n",
       "75%                      0.300000                          0.750000   \n",
       "max                      1.000000                          1.000000   \n",
       "\n",
       "       CASH_ADVANCE_FREQUENCY  CASH_ADVANCE_TRX  PURCHASES_TRX  CREDIT_LIMIT  \\\n",
       "count             8950.000000       8950.000000    8950.000000   8949.000000   \n",
       "mean                 0.135144          3.248827      14.709832   4494.449450   \n",
       "std                  0.200121          6.824647      24.857649   3638.815725   \n",
       "min                  0.000000          0.000000       0.000000     50.000000   \n",
       "25%                  0.000000          0.000000       1.000000   1600.000000   \n",
       "50%                  0.000000          0.000000       7.000000   3000.000000   \n",
       "75%                  0.222222          4.000000      17.000000   6500.000000   \n",
       "max                  1.500000        123.000000     358.000000  30000.000000   \n",
       "\n",
       "           PAYMENTS  MINIMUM_PAYMENTS  PRC_FULL_PAYMENT       TENURE  \n",
       "count   8950.000000       8637.000000       8950.000000  8950.000000  \n",
       "mean    1733.143852        864.206542          0.153715    11.517318  \n",
       "std     2895.063757       2372.446607          0.292499     1.338331  \n",
       "min        0.000000          0.019163          0.000000     6.000000  \n",
       "25%      383.276166        169.123707          0.000000    12.000000  \n",
       "50%      856.901546        312.343947          0.000000    12.000000  \n",
       "75%     1901.134317        825.485459          0.142857    12.000000  \n",
       "max    50721.483360      76406.207520          1.000000    12.000000  "
      ]
     },
     "execution_count": 27,
     "metadata": {},
     "output_type": "execute_result"
    }
   ],
   "source": [
    "data.describe()"
   ]
  },
  {
   "cell_type": "code",
   "execution_count": 28,
   "metadata": {
    "execution": {
     "iopub.execute_input": "2020-12-16T08:21:31.688369Z",
     "iopub.status.busy": "2020-12-16T08:21:31.687236Z",
     "iopub.status.idle": "2020-12-16T08:21:32.354173Z",
     "shell.execute_reply": "2020-12-16T08:21:32.355044Z"
    },
    "papermill": {
     "duration": 0.700322,
     "end_time": "2020-12-16T08:21:32.355253",
     "exception": false,
     "start_time": "2020-12-16T08:21:31.654931",
     "status": "completed"
    },
    "tags": []
   },
   "outputs": [
    {
     "data": {
      "image/png": "[encoded data removed]",
      "text/plain": [
       "<Figure size 720x720 with 1 Axes>"
      ]
     },
     "metadata": {
      "needs_background": "light"
     },
     "output_type": "display_data"
    }
   ],
   "source": [
    "#Preprocessing\n",
    "plt.figure(figsize=(10,10))\n",
    "sns.boxplot(data=data)\n",
    "plt.xticks(rotation=80)\n",
    "plt.show()"
   ]
  },
  {
   "cell_type": "code",
   "execution_count": 29,
   "metadata": {
    "execution": {
     "iopub.execute_input": "2020-12-16T08:21:32.400760Z",
     "iopub.status.busy": "2020-12-16T08:21:32.399666Z",
     "iopub.status.idle": "2020-12-16T08:21:32.410470Z",
     "shell.execute_reply": "2020-12-16T08:21:32.409419Z"
    },
    "papermill": {
     "duration": 0.034054,
     "end_time": "2020-12-16T08:21:32.410816",
     "exception": false,
     "start_time": "2020-12-16T08:21:32.376762",
     "status": "completed"
    },
    "tags": []
   },
   "outputs": [],
   "source": [
    "#Dropping CUST_ID\n",
    "\n",
    "data.drop(['CUST_ID'], axis=1, inplace=True)"
   ]
  },
  {
   "cell_type": "code",
   "execution_count": 30,
   "metadata": {},
   "outputs": [
    {
     "data": {
      "text/plain": [
       "(8950, 17)"
      ]
     },
     "execution_count": 30,
     "metadata": {},
     "output_type": "execute_result"
    }
   ],
   "source": [
    "data.shape"
   ]
  },
  {
   "cell_type": "code",
   "execution_count": 31,
   "metadata": {},
   "outputs": [
    {
     "data": {
      "text/plain": [
       "BALANCE                               0\n",
       "BALANCE_FREQUENCY                     0\n",
       "PURCHASES                             0\n",
       "ONEOFF_PURCHASES                      0\n",
       "INSTALLMENTS_PURCHASES                0\n",
       "CASH_ADVANCE                          0\n",
       "PURCHASES_FREQUENCY                   0\n",
       "ONEOFF_PURCHASES_FREQUENCY            0\n",
       "PURCHASES_INSTALLMENTS_FREQUENCY      0\n",
       "CASH_ADVANCE_FREQUENCY                0\n",
       "CASH_ADVANCE_TRX                      0\n",
       "PURCHASES_TRX                         0\n",
       "CREDIT_LIMIT                          1\n",
       "PAYMENTS                              0\n",
       "MINIMUM_PAYMENTS                    313\n",
       "PRC_FULL_PAYMENT                      0\n",
       "TENURE                                0\n",
       "dtype: int64"
      ]
     },
     "execution_count": 31,
     "metadata": {},
     "output_type": "execute_result"
    }
   ],
   "source": [
    "data.isnull().sum()"
   ]
  },
  {
   "cell_type": "code",
   "execution_count": 32,
   "metadata": {
    "execution": {
     "iopub.execute_input": "2020-12-16T08:21:32.465509Z",
     "iopub.status.busy": "2020-12-16T08:21:32.464291Z",
     "iopub.status.idle": "2020-12-16T08:21:32.476536Z",
     "shell.execute_reply": "2020-12-16T08:21:32.477437Z"
    },
    "papermill": {
     "duration": 0.044883,
     "end_time": "2020-12-16T08:21:32.477686",
     "exception": false,
     "start_time": "2020-12-16T08:21:32.432803",
     "status": "completed"
    },
    "tags": []
   },
   "outputs": [],
   "source": [
    "#MissingValue\n",
    "data['MINIMUM_PAYMENTS'].fillna(data['MINIMUM_PAYMENTS'].mean(),inplace=True)\n",
    "data['CREDIT_LIMIT'].fillna(data['CREDIT_LIMIT'].mean(),inplace=True) "
   ]
  },
  {
   "cell_type": "code",
   "execution_count": 16,
   "metadata": {},
   "outputs": [
    {
     "data": {
      "text/plain": [
       "BALANCE                             0\n",
       "BALANCE_FREQUENCY                   0\n",
       "PURCHASES                           0\n",
       "ONEOFF_PURCHASES                    0\n",
       "INSTALLMENTS_PURCHASES              0\n",
       "CASH_ADVANCE                        0\n",
       "PURCHASES_FREQUENCY                 0\n",
       "ONEOFF_PURCHASES_FREQUENCY          0\n",
       "PURCHASES_INSTALLMENTS_FREQUENCY    0\n",
       "CASH_ADVANCE_FREQUENCY              0\n",
       "CASH_ADVANCE_TRX                    0\n",
       "PURCHASES_TRX                       0\n",
       "CREDIT_LIMIT                        0\n",
       "PAYMENTS                            0\n",
       "MINIMUM_PAYMENTS                    0\n",
       "PRC_FULL_PAYMENT                    0\n",
       "TENURE                              0\n",
       "dtype: int64"
      ]
     },
     "execution_count": 16,
     "metadata": {},
     "output_type": "execute_result"
    }
   ],
   "source": [
    "data.isnull().sum() "
   ]
  },
  {
   "cell_type": "code",
   "execution_count": 17,
   "metadata": {
    "execution": {
     "iopub.execute_input": "2020-12-16T08:21:32.538786Z",
     "iopub.status.busy": "2020-12-16T08:21:32.537805Z",
     "iopub.status.idle": "2020-12-16T08:21:32.565553Z",
     "shell.execute_reply": "2020-12-16T08:21:32.564885Z"
    },
    "papermill": {
     "duration": 0.058876,
     "end_time": "2020-12-16T08:21:32.565692",
     "exception": false,
     "start_time": "2020-12-16T08:21:32.506816",
     "status": "completed"
    },
    "tags": []
   },
   "outputs": [
    {
     "data": {
      "text/plain": [
       "array([[0.73198937, 0.24943448, 0.42489974, ..., 0.31096755, 0.52555097,\n",
       "        0.36067954],\n",
       "       [0.78696085, 0.13432467, 0.46955188, ..., 0.08931021, 0.2342269 ,\n",
       "        0.36067954],\n",
       "       [0.44713513, 0.51808382, 0.10766823, ..., 0.10166318, 0.52555097,\n",
       "        0.36067954],\n",
       "       ...,\n",
       "       [0.7403981 , 0.18547673, 0.40196519, ..., 0.33546549, 0.32919999,\n",
       "        4.12276757],\n",
       "       [0.74517423, 0.18547673, 0.46955188, ..., 0.34690648, 0.32919999,\n",
       "        4.12276757],\n",
       "       [0.57257511, 0.88903307, 0.04214581, ..., 0.33294642, 0.52555097,\n",
       "        4.12276757]])"
      ]
     },
     "execution_count": 17,
     "metadata": {},
     "output_type": "execute_result"
    }
   ],
   "source": [
    "#Outlier according to z-score\n",
    "z = np.abs(stats.zscore(data))\n",
    "z"
   ]
  },
  {
   "cell_type": "code",
   "execution_count": 18,
   "metadata": {},
   "outputs": [],
   "source": [
    "np.where(z > 3)\n",
    "data_1 = data[(z < 3).all(axis=1)]"
   ]
  },
  {
   "cell_type": "code",
   "execution_count": 19,
   "metadata": {},
   "outputs": [
    {
     "data": {
      "text/plain": [
       "(8950, 17)"
      ]
     },
     "execution_count": 19,
     "metadata": {},
     "output_type": "execute_result"
    }
   ],
   "source": [
    "data.shape"
   ]
  },
  {
   "cell_type": "code",
   "execution_count": 20,
   "metadata": {},
   "outputs": [
    {
     "data": {
      "text/plain": [
       "(7434, 17)"
      ]
     },
     "execution_count": 20,
     "metadata": {},
     "output_type": "execute_result"
    }
   ],
   "source": [
    "data_1.shape #Removed all outlier "
   ]
  },
  {
   "cell_type": "code",
   "execution_count": 21,
   "metadata": {},
   "outputs": [
    {
     "data": {
      "text/html": [
       "<div>\n",
       "<style scoped>\n",
       "    .dataframe tbody tr th:only-of-type {\n",
       "        vertical-align: middle;\n",
       "    }\n",
       "\n",
       "    .dataframe tbody tr th {\n",
       "        vertical-align: top;\n",
       "    }\n",
       "\n",
       "    .dataframe thead th {\n",
       "        text-align: right;\n",
       "    }\n",
       "</style>\n",
       "<table border=\"1\" class=\"dataframe\">\n",
       "  <thead>\n",
       "    <tr style=\"text-align: right;\">\n",
       "      <th></th>\n",
       "      <th>BALANCE</th>\n",
       "      <th>BALANCE_FREQUENCY</th>\n",
       "      <th>PURCHASES</th>\n",
       "      <th>ONEOFF_PURCHASES</th>\n",
       "      <th>INSTALLMENTS_PURCHASES</th>\n",
       "      <th>CASH_ADVANCE</th>\n",
       "      <th>PURCHASES_FREQUENCY</th>\n",
       "      <th>ONEOFF_PURCHASES_FREQUENCY</th>\n",
       "      <th>PURCHASES_INSTALLMENTS_FREQUENCY</th>\n",
       "      <th>CASH_ADVANCE_FREQUENCY</th>\n",
       "      <th>CASH_ADVANCE_TRX</th>\n",
       "      <th>PURCHASES_TRX</th>\n",
       "      <th>CREDIT_LIMIT</th>\n",
       "      <th>PAYMENTS</th>\n",
       "      <th>MINIMUM_PAYMENTS</th>\n",
       "      <th>PRC_FULL_PAYMENT</th>\n",
       "      <th>TENURE</th>\n",
       "    </tr>\n",
       "  </thead>\n",
       "  <tbody>\n",
       "    <tr>\n",
       "      <th>0</th>\n",
       "      <td>40.900749</td>\n",
       "      <td>0.818182</td>\n",
       "      <td>95.40</td>\n",
       "      <td>0.00</td>\n",
       "      <td>95.4</td>\n",
       "      <td>0.000000</td>\n",
       "      <td>0.166667</td>\n",
       "      <td>0.000000</td>\n",
       "      <td>0.083333</td>\n",
       "      <td>0.000000</td>\n",
       "      <td>0</td>\n",
       "      <td>2</td>\n",
       "      <td>1000.0</td>\n",
       "      <td>201.802084</td>\n",
       "      <td>139.509787</td>\n",
       "      <td>0.000000</td>\n",
       "      <td>12</td>\n",
       "    </tr>\n",
       "    <tr>\n",
       "      <th>1</th>\n",
       "      <td>3202.467416</td>\n",
       "      <td>0.909091</td>\n",
       "      <td>0.00</td>\n",
       "      <td>0.00</td>\n",
       "      <td>0.0</td>\n",
       "      <td>6442.945483</td>\n",
       "      <td>0.000000</td>\n",
       "      <td>0.000000</td>\n",
       "      <td>0.000000</td>\n",
       "      <td>0.250000</td>\n",
       "      <td>4</td>\n",
       "      <td>0</td>\n",
       "      <td>7000.0</td>\n",
       "      <td>4103.032597</td>\n",
       "      <td>1072.340217</td>\n",
       "      <td>0.222222</td>\n",
       "      <td>12</td>\n",
       "    </tr>\n",
       "    <tr>\n",
       "      <th>2</th>\n",
       "      <td>2495.148862</td>\n",
       "      <td>1.000000</td>\n",
       "      <td>773.17</td>\n",
       "      <td>773.17</td>\n",
       "      <td>0.0</td>\n",
       "      <td>0.000000</td>\n",
       "      <td>1.000000</td>\n",
       "      <td>1.000000</td>\n",
       "      <td>0.000000</td>\n",
       "      <td>0.000000</td>\n",
       "      <td>0</td>\n",
       "      <td>12</td>\n",
       "      <td>7500.0</td>\n",
       "      <td>622.066742</td>\n",
       "      <td>627.284787</td>\n",
       "      <td>0.000000</td>\n",
       "      <td>12</td>\n",
       "    </tr>\n",
       "    <tr>\n",
       "      <th>3</th>\n",
       "      <td>1666.670542</td>\n",
       "      <td>0.636364</td>\n",
       "      <td>1499.00</td>\n",
       "      <td>1499.00</td>\n",
       "      <td>0.0</td>\n",
       "      <td>205.788017</td>\n",
       "      <td>0.083333</td>\n",
       "      <td>0.083333</td>\n",
       "      <td>0.000000</td>\n",
       "      <td>0.083333</td>\n",
       "      <td>1</td>\n",
       "      <td>1</td>\n",
       "      <td>7500.0</td>\n",
       "      <td>0.000000</td>\n",
       "      <td>864.206542</td>\n",
       "      <td>0.000000</td>\n",
       "      <td>12</td>\n",
       "    </tr>\n",
       "    <tr>\n",
       "      <th>4</th>\n",
       "      <td>817.714335</td>\n",
       "      <td>1.000000</td>\n",
       "      <td>16.00</td>\n",
       "      <td>16.00</td>\n",
       "      <td>0.0</td>\n",
       "      <td>0.000000</td>\n",
       "      <td>0.083333</td>\n",
       "      <td>0.083333</td>\n",
       "      <td>0.000000</td>\n",
       "      <td>0.000000</td>\n",
       "      <td>0</td>\n",
       "      <td>1</td>\n",
       "      <td>1200.0</td>\n",
       "      <td>678.334763</td>\n",
       "      <td>244.791237</td>\n",
       "      <td>0.000000</td>\n",
       "      <td>12</td>\n",
       "    </tr>\n",
       "  </tbody>\n",
       "</table>\n",
       "</div>"
      ],
      "text/plain": [
       "       BALANCE  BALANCE_FREQUENCY  PURCHASES  ONEOFF_PURCHASES  \\\n",
       "0    40.900749           0.818182      95.40              0.00   \n",
       "1  3202.467416           0.909091       0.00              0.00   \n",
       "2  2495.148862           1.000000     773.17            773.17   \n",
       "3  1666.670542           0.636364    1499.00           1499.00   \n",
       "4   817.714335           1.000000      16.00             16.00   \n",
       "\n",
       "   INSTALLMENTS_PURCHASES  CASH_ADVANCE  PURCHASES_FREQUENCY  \\\n",
       "0                    95.4      0.000000             0.166667   \n",
       "1                     0.0   6442.945483             0.000000   \n",
       "2                     0.0      0.000000             1.000000   \n",
       "3                     0.0    205.788017             0.083333   \n",
       "4                     0.0      0.000000             0.083333   \n",
       "\n",
       "   ONEOFF_PURCHASES_FREQUENCY  PURCHASES_INSTALLMENTS_FREQUENCY  \\\n",
       "0                    0.000000                          0.083333   \n",
       "1                    0.000000                          0.000000   \n",
       "2                    1.000000                          0.000000   \n",
       "3                    0.083333                          0.000000   \n",
       "4                    0.083333                          0.000000   \n",
       "\n",
       "   CASH_ADVANCE_FREQUENCY  CASH_ADVANCE_TRX  PURCHASES_TRX  CREDIT_LIMIT  \\\n",
       "0                0.000000                 0              2        1000.0   \n",
       "1                0.250000                 4              0        7000.0   \n",
       "2                0.000000                 0             12        7500.0   \n",
       "3                0.083333                 1              1        7500.0   \n",
       "4                0.000000                 0              1        1200.0   \n",
       "\n",
       "      PAYMENTS  MINIMUM_PAYMENTS  PRC_FULL_PAYMENT  TENURE  \n",
       "0   201.802084        139.509787          0.000000      12  \n",
       "1  4103.032597       1072.340217          0.222222      12  \n",
       "2   622.066742        627.284787          0.000000      12  \n",
       "3     0.000000        864.206542          0.000000      12  \n",
       "4   678.334763        244.791237          0.000000      12  "
      ]
     },
     "execution_count": 21,
     "metadata": {},
     "output_type": "execute_result"
    }
   ],
   "source": [
    "data_1.head()"
   ]
  },
  {
   "cell_type": "code",
   "execution_count": 22,
   "metadata": {},
   "outputs": [],
   "source": [
    "#Normalizing\n",
    "scale = StandardScaler()\n",
    "X = scale.fit_transform(data_1)\n"
   ]
  },
  {
   "cell_type": "code",
   "execution_count": 23,
   "metadata": {
    "execution": {
     "iopub.execute_input": "2020-12-16T08:21:32.616339Z",
     "iopub.status.busy": "2020-12-16T08:21:32.615582Z",
     "iopub.status.idle": "2020-12-16T08:21:32.634258Z",
     "shell.execute_reply": "2020-12-16T08:21:32.633490Z"
    },
    "papermill": {
     "duration": 0.046269,
     "end_time": "2020-12-16T08:21:32.634387",
     "exception": false,
     "start_time": "2020-12-16T08:21:32.588118",
     "status": "completed"
    },
    "tags": []
   },
   "outputs": [
    {
     "data": {
      "text/html": [
       "<div>\n",
       "<style scoped>\n",
       "    .dataframe tbody tr th:only-of-type {\n",
       "        vertical-align: middle;\n",
       "    }\n",
       "\n",
       "    .dataframe tbody tr th {\n",
       "        vertical-align: top;\n",
       "    }\n",
       "\n",
       "    .dataframe thead th {\n",
       "        text-align: right;\n",
       "    }\n",
       "</style>\n",
       "<table border=\"1\" class=\"dataframe\">\n",
       "  <thead>\n",
       "    <tr style=\"text-align: right;\">\n",
       "      <th></th>\n",
       "      <th>BALANCE</th>\n",
       "      <th>BALANCE_FREQUENCY</th>\n",
       "      <th>PURCHASES</th>\n",
       "      <th>ONEOFF_PURCHASES</th>\n",
       "      <th>INSTALLMENTS_PURCHASES</th>\n",
       "      <th>CASH_ADVANCE</th>\n",
       "      <th>PURCHASES_FREQUENCY</th>\n",
       "      <th>ONEOFF_PURCHASES_FREQUENCY</th>\n",
       "      <th>PURCHASES_INSTALLMENTS_FREQUENCY</th>\n",
       "      <th>CASH_ADVANCE_FREQUENCY</th>\n",
       "      <th>CASH_ADVANCE_TRX</th>\n",
       "      <th>PURCHASES_TRX</th>\n",
       "      <th>CREDIT_LIMIT</th>\n",
       "      <th>PAYMENTS</th>\n",
       "      <th>MINIMUM_PAYMENTS</th>\n",
       "      <th>PRC_FULL_PAYMENT</th>\n",
       "      <th>TENURE</th>\n",
       "    </tr>\n",
       "  </thead>\n",
       "  <tbody>\n",
       "    <tr>\n",
       "      <th>0</th>\n",
       "      <td>-0.809652</td>\n",
       "      <td>-0.334911</td>\n",
       "      <td>-0.641448</td>\n",
       "      <td>-0.543505</td>\n",
       "      <td>-0.448067</td>\n",
       "      <td>-0.543984</td>\n",
       "      <td>-0.805098</td>\n",
       "      <td>-0.668791</td>\n",
       "      <td>-0.698321</td>\n",
       "      <td>-0.690806</td>\n",
       "      <td>-0.587319</td>\n",
       "      <td>-0.665235</td>\n",
       "      <td>-1.021765</td>\n",
       "      <td>-0.762853</td>\n",
       "      <td>-0.577804</td>\n",
       "      <td>-0.531523</td>\n",
       "      <td>0.312187</td>\n",
       "    </tr>\n",
       "    <tr>\n",
       "      <th>1</th>\n",
       "      <td>1.273272</td>\n",
       "      <td>0.091127</td>\n",
       "      <td>-0.734487</td>\n",
       "      <td>-0.543505</td>\n",
       "      <td>-0.636612</td>\n",
       "      <td>4.671914</td>\n",
       "      <td>-1.225631</td>\n",
       "      <td>-0.668791</td>\n",
       "      <td>-0.910579</td>\n",
       "      <td>0.883825</td>\n",
       "      <td>0.427706</td>\n",
       "      <td>-0.797517</td>\n",
       "      <td>1.022039</td>\n",
       "      <td>1.953121</td>\n",
       "      <td>0.623747</td>\n",
       "      <td>0.232637</td>\n",
       "      <td>0.312187</td>\n",
       "    </tr>\n",
       "    <tr>\n",
       "      <th>2</th>\n",
       "      <td>0.807271</td>\n",
       "      <td>0.517164</td>\n",
       "      <td>0.019551</td>\n",
       "      <td>0.430864</td>\n",
       "      <td>-0.636612</td>\n",
       "      <td>-0.543984</td>\n",
       "      <td>1.297564</td>\n",
       "      <td>2.808268</td>\n",
       "      <td>-0.910579</td>\n",
       "      <td>-0.690806</td>\n",
       "      <td>-0.587319</td>\n",
       "      <td>-0.003826</td>\n",
       "      <td>1.192356</td>\n",
       "      <td>-0.470272</td>\n",
       "      <td>0.050485</td>\n",
       "      <td>-0.531523</td>\n",
       "      <td>0.312187</td>\n",
       "    </tr>\n",
       "    <tr>\n",
       "      <th>3</th>\n",
       "      <td>0.261448</td>\n",
       "      <td>-1.186986</td>\n",
       "      <td>0.727420</td>\n",
       "      <td>1.345575</td>\n",
       "      <td>-0.636612</td>\n",
       "      <td>-0.377388</td>\n",
       "      <td>-1.015366</td>\n",
       "      <td>-0.379037</td>\n",
       "      <td>-0.910579</td>\n",
       "      <td>-0.165931</td>\n",
       "      <td>-0.333563</td>\n",
       "      <td>-0.731376</td>\n",
       "      <td>1.192356</td>\n",
       "      <td>-0.903344</td>\n",
       "      <td>0.355657</td>\n",
       "      <td>-0.531523</td>\n",
       "      <td>0.312187</td>\n",
       "    </tr>\n",
       "    <tr>\n",
       "      <th>4</th>\n",
       "      <td>-0.297867</td>\n",
       "      <td>0.517164</td>\n",
       "      <td>-0.718883</td>\n",
       "      <td>-0.523341</td>\n",
       "      <td>-0.636612</td>\n",
       "      <td>-0.543984</td>\n",
       "      <td>-1.015366</td>\n",
       "      <td>-0.379037</td>\n",
       "      <td>-0.910579</td>\n",
       "      <td>-0.690806</td>\n",
       "      <td>-0.587319</td>\n",
       "      <td>-0.731376</td>\n",
       "      <td>-0.953638</td>\n",
       "      <td>-0.431099</td>\n",
       "      <td>-0.442194</td>\n",
       "      <td>-0.531523</td>\n",
       "      <td>0.312187</td>\n",
       "    </tr>\n",
       "  </tbody>\n",
       "</table>\n",
       "</div>"
      ],
      "text/plain": [
       "    BALANCE  BALANCE_FREQUENCY  PURCHASES  ONEOFF_PURCHASES  \\\n",
       "0 -0.809652          -0.334911  -0.641448         -0.543505   \n",
       "1  1.273272           0.091127  -0.734487         -0.543505   \n",
       "2  0.807271           0.517164   0.019551          0.430864   \n",
       "3  0.261448          -1.186986   0.727420          1.345575   \n",
       "4 -0.297867           0.517164  -0.718883         -0.523341   \n",
       "\n",
       "   INSTALLMENTS_PURCHASES  CASH_ADVANCE  PURCHASES_FREQUENCY  \\\n",
       "0               -0.448067     -0.543984            -0.805098   \n",
       "1               -0.636612      4.671914            -1.225631   \n",
       "2               -0.636612     -0.543984             1.297564   \n",
       "3               -0.636612     -0.377388            -1.015366   \n",
       "4               -0.636612     -0.543984            -1.015366   \n",
       "\n",
       "   ONEOFF_PURCHASES_FREQUENCY  PURCHASES_INSTALLMENTS_FREQUENCY  \\\n",
       "0                   -0.668791                         -0.698321   \n",
       "1                   -0.668791                         -0.910579   \n",
       "2                    2.808268                         -0.910579   \n",
       "3                   -0.379037                         -0.910579   \n",
       "4                   -0.379037                         -0.910579   \n",
       "\n",
       "   CASH_ADVANCE_FREQUENCY  CASH_ADVANCE_TRX  PURCHASES_TRX  CREDIT_LIMIT  \\\n",
       "0               -0.690806         -0.587319      -0.665235     -1.021765   \n",
       "1                0.883825          0.427706      -0.797517      1.022039   \n",
       "2               -0.690806         -0.587319      -0.003826      1.192356   \n",
       "3               -0.165931         -0.333563      -0.731376      1.192356   \n",
       "4               -0.690806         -0.587319      -0.731376     -0.953638   \n",
       "\n",
       "   PAYMENTS  MINIMUM_PAYMENTS  PRC_FULL_PAYMENT    TENURE  \n",
       "0 -0.762853         -0.577804         -0.531523  0.312187  \n",
       "1  1.953121          0.623747          0.232637  0.312187  \n",
       "2 -0.470272          0.050485         -0.531523  0.312187  \n",
       "3 -0.903344          0.355657         -0.531523  0.312187  \n",
       "4 -0.431099         -0.442194         -0.531523  0.312187  "
      ]
     },
     "execution_count": 23,
     "metadata": {},
     "output_type": "execute_result"
    }
   ],
   "source": [
    "\n",
    "names = data_1.columns\n",
    "data_2 = pd.DataFrame(X, columns=names)\n",
    "data_2.head() "
   ]
  },
  {
   "cell_type": "code",
   "execution_count": 52,
   "metadata": {},
   "outputs": [
    {
     "data": {
      "text/plain": [
       "(7434, 17)"
      ]
     },
     "execution_count": 52,
     "metadata": {},
     "output_type": "execute_result"
    }
   ],
   "source": [
    "data_2.shape"
   ]
  },
  {
   "cell_type": "code",
   "execution_count": 11,
   "metadata": {
    "execution": {
     "iopub.execute_input": "2020-12-16T08:21:32.680150Z",
     "iopub.status.busy": "2020-12-16T08:21:32.679084Z",
     "iopub.status.idle": "2020-12-16T08:21:32.682391Z",
     "shell.execute_reply": "2020-12-16T08:21:32.681758Z"
    },
    "papermill": {
     "duration": 0.028088,
     "end_time": "2020-12-16T08:21:32.682519",
     "exception": false,
     "start_time": "2020-12-16T08:21:32.654431",
     "status": "completed"
    },
    "tags": []
   },
   "outputs": [],
   "source": [
    "#clustering"
   ]
  },
  {
   "cell_type": "code",
   "execution_count": 53,
   "metadata": {
    "execution": {
     "iopub.execute_input": "2020-12-16T08:21:32.820292Z",
     "iopub.status.busy": "2020-12-16T08:21:32.814188Z",
     "iopub.status.idle": "2020-12-16T08:21:39.014417Z",
     "shell.execute_reply": "2020-12-16T08:21:39.013739Z"
    },
    "papermill": {
     "duration": 6.311703,
     "end_time": "2020-12-16T08:21:39.014689",
     "exception": false,
     "start_time": "2020-12-16T08:21:32.702986",
     "status": "completed"
    },
    "tags": []
   },
   "outputs": [
    {
     "data": {
      "image/png": "[encoded data removed]",
      "text/plain": [
       "<Figure size 432x288 with 1 Axes>"
      ]
     },
     "metadata": {
      "needs_background": "light"
     },
     "output_type": "display_data"
    }
   ],
   "source": [
    "#elbow\n",
    "Sum_of_squared_distances=[]\n",
    "k= range(1,16)\n",
    "for i in k:\n",
    "    kmean= KMeans(i)\n",
    "    kmean.fit(data_2)\n",
    "    Sum_of_squared_distances.append(kmean.inertia_)\n",
    "plt.plot(k, Sum_of_squared_distances, 'bx-')\n",
    "plt.xlabel('k')\n",
    "plt.ylabel('Sum_of_squared_distances')\n",
    "plt.title('Elbow Method For Optimal k')\n",
    "plt.show()"
   ]
  },
  {
   "cell_type": "code",
   "execution_count": 54,
   "metadata": {
    "execution": {
     "iopub.execute_input": "2020-12-16T08:21:39.070018Z",
     "iopub.status.busy": "2020-12-16T08:21:39.069111Z",
     "iopub.status.idle": "2020-12-16T08:21:39.377074Z",
     "shell.execute_reply": "2020-12-16T08:21:39.378134Z"
    },
    "papermill": {
     "duration": 0.341868,
     "end_time": "2020-12-16T08:21:39.378333",
     "exception": false,
     "start_time": "2020-12-16T08:21:39.036465",
     "status": "completed"
    },
    "tags": []
   },
   "outputs": [
    {
     "data": {
      "text/plain": [
       "KMeans(algorithm='auto', copy_x=True, init='k-means++', max_iter=300,\n",
       "       n_clusters=6, n_init=10, n_jobs=None, precompute_distances='auto',\n",
       "       random_state=None, tol=0.0001, verbose=0)"
      ]
     },
     "execution_count": 54,
     "metadata": {},
     "output_type": "execute_result"
    }
   ],
   "source": [
    "#K-means\n",
    "kmeans = KMeans(n_clusters=6)\n",
    "kmeans.fit(data_2)"
   ]
  },
  {
   "cell_type": "code",
   "execution_count": 56,
   "metadata": {},
   "outputs": [
    {
     "data": {
      "text/plain": [
       "array([2, 3, 5, ..., 2, 0, 2])"
      ]
     },
     "execution_count": 56,
     "metadata": {},
     "output_type": "execute_result"
    }
   ],
   "source": [
    "labels=kmeans.labels_\n",
    "labels"
   ]
  },
  {
   "cell_type": "code",
   "execution_count": 60,
   "metadata": {},
   "outputs": [],
   "source": [
    "\n",
    "kmeans.cluster_centers_\n",
    "clusters=pd.concat([data_2, pd.DataFrame({'cluster':labels})], axis=1)\n"
   ]
  },
  {
   "cell_type": "code",
   "execution_count": 61,
   "metadata": {},
   "outputs": [
    {
     "data": {
      "text/plain": [
       "(7434, 18)"
      ]
     },
     "execution_count": 61,
     "metadata": {},
     "output_type": "execute_result"
    }
   ],
   "source": [
    "clusters.shape\n"
   ]
  },
  {
   "cell_type": "code",
   "execution_count": 62,
   "metadata": {},
   "outputs": [
    {
     "data": {
      "text/html": [
       "<div>\n",
       "<style scoped>\n",
       "    .dataframe tbody tr th:only-of-type {\n",
       "        vertical-align: middle;\n",
       "    }\n",
       "\n",
       "    .dataframe tbody tr th {\n",
       "        vertical-align: top;\n",
       "    }\n",
       "\n",
       "    .dataframe thead th {\n",
       "        text-align: right;\n",
       "    }\n",
       "</style>\n",
       "<table border=\"1\" class=\"dataframe\">\n",
       "  <thead>\n",
       "    <tr style=\"text-align: right;\">\n",
       "      <th></th>\n",
       "      <th>BALANCE</th>\n",
       "      <th>BALANCE_FREQUENCY</th>\n",
       "      <th>PURCHASES</th>\n",
       "      <th>ONEOFF_PURCHASES</th>\n",
       "      <th>INSTALLMENTS_PURCHASES</th>\n",
       "      <th>CASH_ADVANCE</th>\n",
       "      <th>PURCHASES_FREQUENCY</th>\n",
       "      <th>ONEOFF_PURCHASES_FREQUENCY</th>\n",
       "      <th>PURCHASES_INSTALLMENTS_FREQUENCY</th>\n",
       "      <th>CASH_ADVANCE_FREQUENCY</th>\n",
       "      <th>CASH_ADVANCE_TRX</th>\n",
       "      <th>PURCHASES_TRX</th>\n",
       "      <th>CREDIT_LIMIT</th>\n",
       "      <th>PAYMENTS</th>\n",
       "      <th>MINIMUM_PAYMENTS</th>\n",
       "      <th>PRC_FULL_PAYMENT</th>\n",
       "      <th>TENURE</th>\n",
       "      <th>cluster</th>\n",
       "    </tr>\n",
       "  </thead>\n",
       "  <tbody>\n",
       "    <tr>\n",
       "      <th>0</th>\n",
       "      <td>-0.809652</td>\n",
       "      <td>-0.334911</td>\n",
       "      <td>-0.641448</td>\n",
       "      <td>-0.543505</td>\n",
       "      <td>-0.448067</td>\n",
       "      <td>-0.543984</td>\n",
       "      <td>-0.805098</td>\n",
       "      <td>-0.668791</td>\n",
       "      <td>-0.698321</td>\n",
       "      <td>-0.690806</td>\n",
       "      <td>-0.587319</td>\n",
       "      <td>-0.665235</td>\n",
       "      <td>-1.021765</td>\n",
       "      <td>-0.762853</td>\n",
       "      <td>-0.577804</td>\n",
       "      <td>-0.531523</td>\n",
       "      <td>0.312187</td>\n",
       "      <td>2</td>\n",
       "    </tr>\n",
       "    <tr>\n",
       "      <th>1</th>\n",
       "      <td>1.273272</td>\n",
       "      <td>0.091127</td>\n",
       "      <td>-0.734487</td>\n",
       "      <td>-0.543505</td>\n",
       "      <td>-0.636612</td>\n",
       "      <td>4.671914</td>\n",
       "      <td>-1.225631</td>\n",
       "      <td>-0.668791</td>\n",
       "      <td>-0.910579</td>\n",
       "      <td>0.883825</td>\n",
       "      <td>0.427706</td>\n",
       "      <td>-0.797517</td>\n",
       "      <td>1.022039</td>\n",
       "      <td>1.953121</td>\n",
       "      <td>0.623747</td>\n",
       "      <td>0.232637</td>\n",
       "      <td>0.312187</td>\n",
       "      <td>3</td>\n",
       "    </tr>\n",
       "    <tr>\n",
       "      <th>2</th>\n",
       "      <td>0.807271</td>\n",
       "      <td>0.517164</td>\n",
       "      <td>0.019551</td>\n",
       "      <td>0.430864</td>\n",
       "      <td>-0.636612</td>\n",
       "      <td>-0.543984</td>\n",
       "      <td>1.297564</td>\n",
       "      <td>2.808268</td>\n",
       "      <td>-0.910579</td>\n",
       "      <td>-0.690806</td>\n",
       "      <td>-0.587319</td>\n",
       "      <td>-0.003826</td>\n",
       "      <td>1.192356</td>\n",
       "      <td>-0.470272</td>\n",
       "      <td>0.050485</td>\n",
       "      <td>-0.531523</td>\n",
       "      <td>0.312187</td>\n",
       "      <td>5</td>\n",
       "    </tr>\n",
       "    <tr>\n",
       "      <th>3</th>\n",
       "      <td>0.261448</td>\n",
       "      <td>-1.186986</td>\n",
       "      <td>0.727420</td>\n",
       "      <td>1.345575</td>\n",
       "      <td>-0.636612</td>\n",
       "      <td>-0.377388</td>\n",
       "      <td>-1.015366</td>\n",
       "      <td>-0.379037</td>\n",
       "      <td>-0.910579</td>\n",
       "      <td>-0.165931</td>\n",
       "      <td>-0.333563</td>\n",
       "      <td>-0.731376</td>\n",
       "      <td>1.192356</td>\n",
       "      <td>-0.903344</td>\n",
       "      <td>0.355657</td>\n",
       "      <td>-0.531523</td>\n",
       "      <td>0.312187</td>\n",
       "      <td>2</td>\n",
       "    </tr>\n",
       "    <tr>\n",
       "      <th>4</th>\n",
       "      <td>-0.297867</td>\n",
       "      <td>0.517164</td>\n",
       "      <td>-0.718883</td>\n",
       "      <td>-0.523341</td>\n",
       "      <td>-0.636612</td>\n",
       "      <td>-0.543984</td>\n",
       "      <td>-1.015366</td>\n",
       "      <td>-0.379037</td>\n",
       "      <td>-0.910579</td>\n",
       "      <td>-0.690806</td>\n",
       "      <td>-0.587319</td>\n",
       "      <td>-0.731376</td>\n",
       "      <td>-0.953638</td>\n",
       "      <td>-0.431099</td>\n",
       "      <td>-0.442194</td>\n",
       "      <td>-0.531523</td>\n",
       "      <td>0.312187</td>\n",
       "      <td>2</td>\n",
       "    </tr>\n",
       "  </tbody>\n",
       "</table>\n",
       "</div>"
      ],
      "text/plain": [
       "    BALANCE  BALANCE_FREQUENCY  PURCHASES  ONEOFF_PURCHASES  \\\n",
       "0 -0.809652          -0.334911  -0.641448         -0.543505   \n",
       "1  1.273272           0.091127  -0.734487         -0.543505   \n",
       "2  0.807271           0.517164   0.019551          0.430864   \n",
       "3  0.261448          -1.186986   0.727420          1.345575   \n",
       "4 -0.297867           0.517164  -0.718883         -0.523341   \n",
       "\n",
       "   INSTALLMENTS_PURCHASES  CASH_ADVANCE  PURCHASES_FREQUENCY  \\\n",
       "0               -0.448067     -0.543984            -0.805098   \n",
       "1               -0.636612      4.671914            -1.225631   \n",
       "2               -0.636612     -0.543984             1.297564   \n",
       "3               -0.636612     -0.377388            -1.015366   \n",
       "4               -0.636612     -0.543984            -1.015366   \n",
       "\n",
       "   ONEOFF_PURCHASES_FREQUENCY  PURCHASES_INSTALLMENTS_FREQUENCY  \\\n",
       "0                   -0.668791                         -0.698321   \n",
       "1                   -0.668791                         -0.910579   \n",
       "2                    2.808268                         -0.910579   \n",
       "3                   -0.379037                         -0.910579   \n",
       "4                   -0.379037                         -0.910579   \n",
       "\n",
       "   CASH_ADVANCE_FREQUENCY  CASH_ADVANCE_TRX  PURCHASES_TRX  CREDIT_LIMIT  \\\n",
       "0               -0.690806         -0.587319      -0.665235     -1.021765   \n",
       "1                0.883825          0.427706      -0.797517      1.022039   \n",
       "2               -0.690806         -0.587319      -0.003826      1.192356   \n",
       "3               -0.165931         -0.333563      -0.731376      1.192356   \n",
       "4               -0.690806         -0.587319      -0.731376     -0.953638   \n",
       "\n",
       "   PAYMENTS  MINIMUM_PAYMENTS  PRC_FULL_PAYMENT    TENURE  cluster  \n",
       "0 -0.762853         -0.577804         -0.531523  0.312187        2  \n",
       "1  1.953121          0.623747          0.232637  0.312187        3  \n",
       "2 -0.470272          0.050485         -0.531523  0.312187        5  \n",
       "3 -0.903344          0.355657         -0.531523  0.312187        2  \n",
       "4 -0.431099         -0.442194         -0.531523  0.312187        2  "
      ]
     },
     "execution_count": 62,
     "metadata": {},
     "output_type": "execute_result"
    }
   ],
   "source": [
    "clusters.head()"
   ]
  },
  {
   "cell_type": "code",
   "execution_count": 63,
   "metadata": {},
   "outputs": [
    {
     "data": {
      "text/plain": [
       "0       2\n",
       "1       3\n",
       "2       5\n",
       "3       2\n",
       "4       2\n",
       "       ..\n",
       "7429    2\n",
       "7430    0\n",
       "7431    2\n",
       "7432    0\n",
       "7433    2\n",
       "Name: cluster, Length: 7434, dtype: int32"
      ]
     },
     "execution_count": 63,
     "metadata": {},
     "output_type": "execute_result"
    }
   ],
   "source": [
    "(clusters['cluster'])"
   ]
  },
  {
   "cell_type": "code",
   "execution_count": 64,
   "metadata": {
    "execution": {
     "iopub.execute_input": "2020-12-16T08:21:39.442065Z",
     "iopub.status.busy": "2020-12-16T08:21:39.441138Z",
     "iopub.status.idle": "2020-12-16T08:22:00.707846Z",
     "shell.execute_reply": "2020-12-16T08:22:00.707062Z"
    },
    "papermill": {
     "duration": 21.302013,
     "end_time": "2020-12-16T08:22:00.707992",
     "exception": false,
     "start_time": "2020-12-16T08:21:39.405979",
     "status": "completed"
    },
    "tags": []
   },
   "outputs": [
    {
     "data": {
      "image/png": "[encoded data removed]",
      "text/plain": [
       "<Figure size 432x288 with 1 Axes>"
      ]
     },
     "metadata": {
      "needs_background": "light"
     },
     "output_type": "display_data"
    },
    {
     "data": {
      "image/png": "[encoded data removed]",
      "text/plain": [
       "<Figure size 1296x216 with 6 Axes>"
      ]
     },
     "metadata": {
      "needs_background": "light"
     },
     "output_type": "display_data"
    },
    {
     "data": {
      "image/png": "[encoded data removed]",
      "text/plain": [
       "<Figure size 1296x216 with 6 Axes>"
      ]
     },
     "metadata": {
      "needs_background": "light"
     },
     "output_type": "display_data"
    },
    {
     "data": {
      "image/png": "[encoded data removed]",
      "text/plain": [
       "<Figure size 1296x216 with 6 Axes>"
      ]
     },
     "metadata": {
      "needs_background": "light"
     },
     "output_type": "display_data"
    },
    {
     "data": {
      "image/png": "[encoded data removed]",
      "text/plain": [
       "<Figure size 1296x216 with 6 Axes>"
      ]
     },
     "metadata": {
      "needs_background": "light"
     },
     "output_type": "display_data"
    },
    {
     "data": {
      "image/png": "[encoded data removed]",
      "text/plain": [
       "<Figure size 1296x216 with 6 Axes>"
      ]
     },
     "metadata": {
      "needs_background": "light"
     },
     "output_type": "display_data"
    },
    {
     "data": {
      "image/png": "[encoded data removed]",
      "text/plain": [
       "<Figure size 1296x216 with 6 Axes>"
      ]
     },
     "metadata": {
      "needs_background": "light"
     },
     "output_type": "display_data"
    },
    {
     "data": {
      "image/png": "[encoded data removed]",
      "text/plain": [
       "<Figure size 1296x216 with 6 Axes>"
      ]
     },
     "metadata": {
      "needs_background": "light"
     },
     "output_type": "display_data"
    },
    {
     "data": {
      "image/png": "[encoded data removed]",
      "text/plain": [
       "<Figure size 1296x216 with 6 Axes>"
      ]
     },
     "metadata": {
      "needs_background": "light"
     },
     "output_type": "display_data"
    },
    {
     "data": {
      "image/png": "[encoded data removed]",
      "text/plain": [
       "<Figure size 1296x216 with 6 Axes>"
      ]
     },
     "metadata": {
      "needs_background": "light"
     },
     "output_type": "display_data"
    },
    {
     "data": {
      "image/png": "[encoded data removed]",
      "text/plain": [
       "<Figure size 1296x216 with 6 Axes>"
      ]
     },
     "metadata": {
      "needs_background": "light"
     },
     "output_type": "display_data"
    },
    {
     "data": {
      "image/png": "[encoded data removed]",
      "text/plain": [
       "<Figure size 1296x216 with 6 Axes>"
      ]
     },
     "metadata": {
      "needs_background": "light"
     },
     "output_type": "display_data"
    },
    {
     "data": {
      "image/png": "[encoded data removed]",
      "text/plain": [
       "<Figure size 1296x216 with 6 Axes>"
      ]
     },
     "metadata": {
      "needs_background": "light"
     },
     "output_type": "display_data"
    },
    {
     "data": {
      "image/png": "[encoded data removed]",
      "text/plain": [
       "<Figure size 1296x216 with 6 Axes>"
      ]
     },
     "metadata": {
      "needs_background": "light"
     },
     "output_type": "display_data"
    },
    {
     "data": {
      "image/png": "[encoded data removed]",
      "text/plain": [
       "<Figure size 1296x216 with 6 Axes>"
      ]
     },
     "metadata": {
      "needs_background": "light"
     },
     "output_type": "display_data"
    },
    {
     "data": {
      "image/png": "[encoded data removed]",
      "text/plain": [
       "<Figure size 1296x216 with 6 Axes>"
      ]
     },
     "metadata": {
      "needs_background": "light"
     },
     "output_type": "display_data"
    },
    {
     "data": {
      "image/png": "[encoded data removed]",
      "text/plain": [
       "<Figure size 1296x216 with 6 Axes>"
      ]
     },
     "metadata": {
      "needs_background": "light"
     },
     "output_type": "display_data"
    },
    {
     "data": {
      "image/png": "[encoded data removed]",
      "text/plain": [
       "<Figure size 1296x216 with 6 Axes>"
      ]
     },
     "metadata": {
      "needs_background": "light"
     },
     "output_type": "display_data"
    }
   ],
   "source": [
    "#Visualization\n",
    "sns.countplot(x='cluster', data=clusters)\n",
    "\n",
    "for c in data_1:\n",
    "    grid= sns.FacetGrid(clusters, col='cluster')\n",
    "    grid= grid.map(plt.hist, c)\n",
    "plt.show()\n"
   ]
  },
  {
   "cell_type": "code",
   "execution_count": 65,
   "metadata": {
    "execution": {
     "iopub.execute_input": "2020-12-16T08:22:00.790320Z",
     "iopub.status.busy": "2020-12-16T08:22:00.789202Z",
     "iopub.status.idle": "2020-12-16T08:22:00.797502Z",
     "shell.execute_reply": "2020-12-16T08:22:00.796643Z"
    },
    "papermill": {
     "duration": 0.051882,
     "end_time": "2020-12-16T08:22:00.797668",
     "exception": false,
     "start_time": "2020-12-16T08:22:00.745786",
     "status": "completed"
    },
    "tags": []
   },
   "outputs": [
    {
     "data": {
      "text/plain": [
       "(7434, 18)"
      ]
     },
     "execution_count": 65,
     "metadata": {},
     "output_type": "execute_result"
    }
   ],
   "source": [
    "#Classification\n",
    "clusters.shape\n",
    "#print(clusters['cluster'].unique())\n",
    "#print(clusters.groupby('cluster').size())"
   ]
  },
  {
   "cell_type": "code",
   "execution_count": 66,
   "metadata": {},
   "outputs": [
    {
     "data": {
      "text/plain": [
       "array([2, 3, 5, 0, 1, 4])"
      ]
     },
     "execution_count": 66,
     "metadata": {},
     "output_type": "execute_result"
    }
   ],
   "source": [
    "clusters['cluster'].unique()"
   ]
  },
  {
   "cell_type": "code",
   "execution_count": 67,
   "metadata": {},
   "outputs": [
    {
     "data": {
      "text/plain": [
       "cluster\n",
       "0    1740\n",
       "1    1023\n",
       "2    2130\n",
       "3    1046\n",
       "4     615\n",
       "5     880\n",
       "dtype: int64"
      ]
     },
     "execution_count": 67,
     "metadata": {},
     "output_type": "execute_result"
    }
   ],
   "source": [
    "clusters.groupby('cluster').size()"
   ]
  },
  {
   "cell_type": "code",
   "execution_count": 68,
   "metadata": {
    "execution": {
     "iopub.execute_input": "2020-12-16T08:22:00.887277Z",
     "iopub.status.busy": "2020-12-16T08:22:00.886334Z",
     "iopub.status.idle": "2020-12-16T08:22:00.918289Z",
     "shell.execute_reply": "2020-12-16T08:22:00.917617Z"
    },
    "papermill": {
     "duration": 0.082061,
     "end_time": "2020-12-16T08:22:00.918416",
     "exception": false,
     "start_time": "2020-12-16T08:22:00.836355",
     "status": "completed"
    },
    "tags": []
   },
   "outputs": [],
   "source": [
    "#Split Dataset\n",
    "X = clusters [['BALANCE', 'BALANCE_FREQUENCY', 'PURCHASES','ONEOFF_PURCHASES', 'INSTALLMENTS_PURCHASES', 'CASH_ADVANCE','PURCHASES_FREQUENCY', 'ONEOFF_PURCHASES_FREQUENCY',\n",
    "    'PURCHASES_INSTALLMENTS_FREQUENCY', 'CASH_ADVANCE_FREQUENCY','CASH_ADVANCE_TRX', 'PURCHASES_TRX', 'CREDIT_LIMIT', 'PAYMENTS',\n",
    "    'MINIMUM_PAYMENTS', 'PRC_FULL_PAYMENT', 'TENURE']]\n",
    "y= clusters[['cluster']]\n",
    "X_train, X_test, y_train, y_test =train_test_split(X, y, test_size=0.3)\n",
    "\n"
   ]
  },
  {
   "cell_type": "code",
   "execution_count": 69,
   "metadata": {},
   "outputs": [
    {
     "data": {
      "text/html": [
       "<div>\n",
       "<style scoped>\n",
       "    .dataframe tbody tr th:only-of-type {\n",
       "        vertical-align: middle;\n",
       "    }\n",
       "\n",
       "    .dataframe tbody tr th {\n",
       "        vertical-align: top;\n",
       "    }\n",
       "\n",
       "    .dataframe thead th {\n",
       "        text-align: right;\n",
       "    }\n",
       "</style>\n",
       "<table border=\"1\" class=\"dataframe\">\n",
       "  <thead>\n",
       "    <tr style=\"text-align: right;\">\n",
       "      <th></th>\n",
       "      <th>BALANCE</th>\n",
       "      <th>BALANCE_FREQUENCY</th>\n",
       "      <th>PURCHASES</th>\n",
       "      <th>ONEOFF_PURCHASES</th>\n",
       "      <th>INSTALLMENTS_PURCHASES</th>\n",
       "      <th>CASH_ADVANCE</th>\n",
       "      <th>PURCHASES_FREQUENCY</th>\n",
       "      <th>ONEOFF_PURCHASES_FREQUENCY</th>\n",
       "      <th>PURCHASES_INSTALLMENTS_FREQUENCY</th>\n",
       "      <th>CASH_ADVANCE_FREQUENCY</th>\n",
       "      <th>CASH_ADVANCE_TRX</th>\n",
       "      <th>PURCHASES_TRX</th>\n",
       "      <th>CREDIT_LIMIT</th>\n",
       "      <th>PAYMENTS</th>\n",
       "      <th>MINIMUM_PAYMENTS</th>\n",
       "      <th>PRC_FULL_PAYMENT</th>\n",
       "      <th>TENURE</th>\n",
       "    </tr>\n",
       "  </thead>\n",
       "  <tbody>\n",
       "    <tr>\n",
       "      <th>0</th>\n",
       "      <td>-0.809652</td>\n",
       "      <td>-0.334911</td>\n",
       "      <td>-0.641448</td>\n",
       "      <td>-0.543505</td>\n",
       "      <td>-0.448067</td>\n",
       "      <td>-0.543984</td>\n",
       "      <td>-0.805098</td>\n",
       "      <td>-0.668791</td>\n",
       "      <td>-0.698321</td>\n",
       "      <td>-0.690806</td>\n",
       "      <td>-0.587319</td>\n",
       "      <td>-0.665235</td>\n",
       "      <td>-1.021765</td>\n",
       "      <td>-0.762853</td>\n",
       "      <td>-0.577804</td>\n",
       "      <td>-0.531523</td>\n",
       "      <td>0.312187</td>\n",
       "    </tr>\n",
       "    <tr>\n",
       "      <th>1</th>\n",
       "      <td>1.273272</td>\n",
       "      <td>0.091127</td>\n",
       "      <td>-0.734487</td>\n",
       "      <td>-0.543505</td>\n",
       "      <td>-0.636612</td>\n",
       "      <td>4.671914</td>\n",
       "      <td>-1.225631</td>\n",
       "      <td>-0.668791</td>\n",
       "      <td>-0.910579</td>\n",
       "      <td>0.883825</td>\n",
       "      <td>0.427706</td>\n",
       "      <td>-0.797517</td>\n",
       "      <td>1.022039</td>\n",
       "      <td>1.953121</td>\n",
       "      <td>0.623747</td>\n",
       "      <td>0.232637</td>\n",
       "      <td>0.312187</td>\n",
       "    </tr>\n",
       "    <tr>\n",
       "      <th>2</th>\n",
       "      <td>0.807271</td>\n",
       "      <td>0.517164</td>\n",
       "      <td>0.019551</td>\n",
       "      <td>0.430864</td>\n",
       "      <td>-0.636612</td>\n",
       "      <td>-0.543984</td>\n",
       "      <td>1.297564</td>\n",
       "      <td>2.808268</td>\n",
       "      <td>-0.910579</td>\n",
       "      <td>-0.690806</td>\n",
       "      <td>-0.587319</td>\n",
       "      <td>-0.003826</td>\n",
       "      <td>1.192356</td>\n",
       "      <td>-0.470272</td>\n",
       "      <td>0.050485</td>\n",
       "      <td>-0.531523</td>\n",
       "      <td>0.312187</td>\n",
       "    </tr>\n",
       "    <tr>\n",
       "      <th>3</th>\n",
       "      <td>0.261448</td>\n",
       "      <td>-1.186986</td>\n",
       "      <td>0.727420</td>\n",
       "      <td>1.345575</td>\n",
       "      <td>-0.636612</td>\n",
       "      <td>-0.377388</td>\n",
       "      <td>-1.015366</td>\n",
       "      <td>-0.379037</td>\n",
       "      <td>-0.910579</td>\n",
       "      <td>-0.165931</td>\n",
       "      <td>-0.333563</td>\n",
       "      <td>-0.731376</td>\n",
       "      <td>1.192356</td>\n",
       "      <td>-0.903344</td>\n",
       "      <td>0.355657</td>\n",
       "      <td>-0.531523</td>\n",
       "      <td>0.312187</td>\n",
       "    </tr>\n",
       "    <tr>\n",
       "      <th>4</th>\n",
       "      <td>-0.297867</td>\n",
       "      <td>0.517164</td>\n",
       "      <td>-0.718883</td>\n",
       "      <td>-0.523341</td>\n",
       "      <td>-0.636612</td>\n",
       "      <td>-0.543984</td>\n",
       "      <td>-1.015366</td>\n",
       "      <td>-0.379037</td>\n",
       "      <td>-0.910579</td>\n",
       "      <td>-0.690806</td>\n",
       "      <td>-0.587319</td>\n",
       "      <td>-0.731376</td>\n",
       "      <td>-0.953638</td>\n",
       "      <td>-0.431099</td>\n",
       "      <td>-0.442194</td>\n",
       "      <td>-0.531523</td>\n",
       "      <td>0.312187</td>\n",
       "    </tr>\n",
       "    <tr>\n",
       "      <th>...</th>\n",
       "      <td>...</td>\n",
       "      <td>...</td>\n",
       "      <td>...</td>\n",
       "      <td>...</td>\n",
       "      <td>...</td>\n",
       "      <td>...</td>\n",
       "      <td>...</td>\n",
       "      <td>...</td>\n",
       "      <td>...</td>\n",
       "      <td>...</td>\n",
       "      <td>...</td>\n",
       "      <td>...</td>\n",
       "      <td>...</td>\n",
       "      <td>...</td>\n",
       "      <td>...</td>\n",
       "      <td>...</td>\n",
       "      <td>...</td>\n",
       "    </tr>\n",
       "    <tr>\n",
       "      <th>7429</th>\n",
       "      <td>-0.756687</td>\n",
       "      <td>-0.654440</td>\n",
       "      <td>-0.358761</td>\n",
       "      <td>-0.057990</td>\n",
       "      <td>-0.636612</td>\n",
       "      <td>-0.406721</td>\n",
       "      <td>0.035966</td>\n",
       "      <td>1.069739</td>\n",
       "      <td>-0.910579</td>\n",
       "      <td>0.096509</td>\n",
       "      <td>0.173950</td>\n",
       "      <td>-0.334531</td>\n",
       "      <td>-1.192081</td>\n",
       "      <td>-0.834962</td>\n",
       "      <td>-0.610734</td>\n",
       "      <td>-0.531523</td>\n",
       "      <td>-4.697636</td>\n",
       "    </tr>\n",
       "    <tr>\n",
       "      <th>7430</th>\n",
       "      <td>-0.800266</td>\n",
       "      <td>-0.068638</td>\n",
       "      <td>-0.575218</td>\n",
       "      <td>-0.543505</td>\n",
       "      <td>-0.313852</td>\n",
       "      <td>-0.543984</td>\n",
       "      <td>0.982164</td>\n",
       "      <td>-0.668791</td>\n",
       "      <td>0.999753</td>\n",
       "      <td>-0.690806</td>\n",
       "      <td>-0.587319</td>\n",
       "      <td>-0.334531</td>\n",
       "      <td>-1.021765</td>\n",
       "      <td>-0.859750</td>\n",
       "      <td>-0.616355</td>\n",
       "      <td>-0.531523</td>\n",
       "      <td>-4.697636</td>\n",
       "    </tr>\n",
       "    <tr>\n",
       "      <th>7431</th>\n",
       "      <td>-0.263862</td>\n",
       "      <td>-0.654440</td>\n",
       "      <td>-0.734487</td>\n",
       "      <td>-0.543505</td>\n",
       "      <td>-0.636612</td>\n",
       "      <td>0.390178</td>\n",
       "      <td>-1.225631</td>\n",
       "      <td>-0.668791</td>\n",
       "      <td>-0.910579</td>\n",
       "      <td>0.096509</td>\n",
       "      <td>0.173950</td>\n",
       "      <td>-0.797517</td>\n",
       "      <td>-0.953638</td>\n",
       "      <td>-0.798391</td>\n",
       "      <td>-0.322151</td>\n",
       "      <td>-0.531523</td>\n",
       "      <td>-4.697636</td>\n",
       "    </tr>\n",
       "    <tr>\n",
       "      <th>7432</th>\n",
       "      <td>-0.745849</td>\n",
       "      <td>0.517164</td>\n",
       "      <td>-0.304400</td>\n",
       "      <td>-0.543505</td>\n",
       "      <td>0.234966</td>\n",
       "      <td>-0.543984</td>\n",
       "      <td>0.666765</td>\n",
       "      <td>-0.668791</td>\n",
       "      <td>0.681364</td>\n",
       "      <td>-0.690806</td>\n",
       "      <td>-0.587319</td>\n",
       "      <td>-0.400671</td>\n",
       "      <td>-1.021765</td>\n",
       "      <td>-0.785516</td>\n",
       "      <td>-0.596957</td>\n",
       "      <td>-0.531523</td>\n",
       "      <td>-4.697636</td>\n",
       "    </tr>\n",
       "    <tr>\n",
       "      <th>7433</th>\n",
       "      <td>-0.618481</td>\n",
       "      <td>-0.654440</td>\n",
       "      <td>-0.655297</td>\n",
       "      <td>-0.441175</td>\n",
       "      <td>-0.636612</td>\n",
       "      <td>-0.204506</td>\n",
       "      <td>-0.910232</td>\n",
       "      <td>-0.234159</td>\n",
       "      <td>-0.910579</td>\n",
       "      <td>0.883825</td>\n",
       "      <td>1.188975</td>\n",
       "      <td>-0.731376</td>\n",
       "      <td>-1.192081</td>\n",
       "      <td>-0.822057</td>\n",
       "      <td>-0.493363</td>\n",
       "      <td>-0.531523</td>\n",
       "      <td>-4.697636</td>\n",
       "    </tr>\n",
       "  </tbody>\n",
       "</table>\n",
       "<p>7434 rows × 17 columns</p>\n",
       "</div>"
      ],
      "text/plain": [
       "       BALANCE  BALANCE_FREQUENCY  PURCHASES  ONEOFF_PURCHASES  \\\n",
       "0    -0.809652          -0.334911  -0.641448         -0.543505   \n",
       "1     1.273272           0.091127  -0.734487         -0.543505   \n",
       "2     0.807271           0.517164   0.019551          0.430864   \n",
       "3     0.261448          -1.186986   0.727420          1.345575   \n",
       "4    -0.297867           0.517164  -0.718883         -0.523341   \n",
       "...        ...                ...        ...               ...   \n",
       "7429 -0.756687          -0.654440  -0.358761         -0.057990   \n",
       "7430 -0.800266          -0.068638  -0.575218         -0.543505   \n",
       "7431 -0.263862          -0.654440  -0.734487         -0.543505   \n",
       "7432 -0.745849           0.517164  -0.304400         -0.543505   \n",
       "7433 -0.618481          -0.654440  -0.655297         -0.441175   \n",
       "\n",
       "      INSTALLMENTS_PURCHASES  CASH_ADVANCE  PURCHASES_FREQUENCY  \\\n",
       "0                  -0.448067     -0.543984            -0.805098   \n",
       "1                  -0.636612      4.671914            -1.225631   \n",
       "2                  -0.636612     -0.543984             1.297564   \n",
       "3                  -0.636612     -0.377388            -1.015366   \n",
       "4                  -0.636612     -0.543984            -1.015366   \n",
       "...                      ...           ...                  ...   \n",
       "7429               -0.636612     -0.406721             0.035966   \n",
       "7430               -0.313852     -0.543984             0.982164   \n",
       "7431               -0.636612      0.390178            -1.225631   \n",
       "7432                0.234966     -0.543984             0.666765   \n",
       "7433               -0.636612     -0.204506            -0.910232   \n",
       "\n",
       "      ONEOFF_PURCHASES_FREQUENCY  PURCHASES_INSTALLMENTS_FREQUENCY  \\\n",
       "0                      -0.668791                         -0.698321   \n",
       "1                      -0.668791                         -0.910579   \n",
       "2                       2.808268                         -0.910579   \n",
       "3                      -0.379037                         -0.910579   \n",
       "4                      -0.379037                         -0.910579   \n",
       "...                          ...                               ...   \n",
       "7429                    1.069739                         -0.910579   \n",
       "7430                   -0.668791                          0.999753   \n",
       "7431                   -0.668791                         -0.910579   \n",
       "7432                   -0.668791                          0.681364   \n",
       "7433                   -0.234159                         -0.910579   \n",
       "\n",
       "      CASH_ADVANCE_FREQUENCY  CASH_ADVANCE_TRX  PURCHASES_TRX  CREDIT_LIMIT  \\\n",
       "0                  -0.690806         -0.587319      -0.665235     -1.021765   \n",
       "1                   0.883825          0.427706      -0.797517      1.022039   \n",
       "2                  -0.690806         -0.587319      -0.003826      1.192356   \n",
       "3                  -0.165931         -0.333563      -0.731376      1.192356   \n",
       "4                  -0.690806         -0.587319      -0.731376     -0.953638   \n",
       "...                      ...               ...            ...           ...   \n",
       "7429                0.096509          0.173950      -0.334531     -1.192081   \n",
       "7430               -0.690806         -0.587319      -0.334531     -1.021765   \n",
       "7431                0.096509          0.173950      -0.797517     -0.953638   \n",
       "7432               -0.690806         -0.587319      -0.400671     -1.021765   \n",
       "7433                0.883825          1.188975      -0.731376     -1.192081   \n",
       "\n",
       "      PAYMENTS  MINIMUM_PAYMENTS  PRC_FULL_PAYMENT    TENURE  \n",
       "0    -0.762853         -0.577804         -0.531523  0.312187  \n",
       "1     1.953121          0.623747          0.232637  0.312187  \n",
       "2    -0.470272          0.050485         -0.531523  0.312187  \n",
       "3    -0.903344          0.355657         -0.531523  0.312187  \n",
       "4    -0.431099         -0.442194         -0.531523  0.312187  \n",
       "...        ...               ...               ...       ...  \n",
       "7429 -0.834962         -0.610734         -0.531523 -4.697636  \n",
       "7430 -0.859750         -0.616355         -0.531523 -4.697636  \n",
       "7431 -0.798391         -0.322151         -0.531523 -4.697636  \n",
       "7432 -0.785516         -0.596957         -0.531523 -4.697636  \n",
       "7433 -0.822057         -0.493363         -0.531523 -4.697636  \n",
       "\n",
       "[7434 rows x 17 columns]"
      ]
     },
     "execution_count": 69,
     "metadata": {},
     "output_type": "execute_result"
    }
   ],
   "source": [
    "X"
   ]
  },
  {
   "cell_type": "code",
   "execution_count": 70,
   "metadata": {},
   "outputs": [
    {
     "data": {
      "text/html": [
       "<div>\n",
       "<style scoped>\n",
       "    .dataframe tbody tr th:only-of-type {\n",
       "        vertical-align: middle;\n",
       "    }\n",
       "\n",
       "    .dataframe tbody tr th {\n",
       "        vertical-align: top;\n",
       "    }\n",
       "\n",
       "    .dataframe thead th {\n",
       "        text-align: right;\n",
       "    }\n",
       "</style>\n",
       "<table border=\"1\" class=\"dataframe\">\n",
       "  <thead>\n",
       "    <tr style=\"text-align: right;\">\n",
       "      <th></th>\n",
       "      <th>cluster</th>\n",
       "    </tr>\n",
       "  </thead>\n",
       "  <tbody>\n",
       "    <tr>\n",
       "      <th>0</th>\n",
       "      <td>2</td>\n",
       "    </tr>\n",
       "    <tr>\n",
       "      <th>1</th>\n",
       "      <td>3</td>\n",
       "    </tr>\n",
       "    <tr>\n",
       "      <th>2</th>\n",
       "      <td>5</td>\n",
       "    </tr>\n",
       "    <tr>\n",
       "      <th>3</th>\n",
       "      <td>2</td>\n",
       "    </tr>\n",
       "    <tr>\n",
       "      <th>4</th>\n",
       "      <td>2</td>\n",
       "    </tr>\n",
       "    <tr>\n",
       "      <th>...</th>\n",
       "      <td>...</td>\n",
       "    </tr>\n",
       "    <tr>\n",
       "      <th>7429</th>\n",
       "      <td>2</td>\n",
       "    </tr>\n",
       "    <tr>\n",
       "      <th>7430</th>\n",
       "      <td>0</td>\n",
       "    </tr>\n",
       "    <tr>\n",
       "      <th>7431</th>\n",
       "      <td>2</td>\n",
       "    </tr>\n",
       "    <tr>\n",
       "      <th>7432</th>\n",
       "      <td>0</td>\n",
       "    </tr>\n",
       "    <tr>\n",
       "      <th>7433</th>\n",
       "      <td>2</td>\n",
       "    </tr>\n",
       "  </tbody>\n",
       "</table>\n",
       "<p>7434 rows × 1 columns</p>\n",
       "</div>"
      ],
      "text/plain": [
       "      cluster\n",
       "0           2\n",
       "1           3\n",
       "2           5\n",
       "3           2\n",
       "4           2\n",
       "...       ...\n",
       "7429        2\n",
       "7430        0\n",
       "7431        2\n",
       "7432        0\n",
       "7433        2\n",
       "\n",
       "[7434 rows x 1 columns]"
      ]
     },
     "execution_count": 70,
     "metadata": {},
     "output_type": "execute_result"
    }
   ],
   "source": [
    "y"
   ]
  },
  {
   "cell_type": "code",
   "execution_count": 71,
   "metadata": {},
   "outputs": [
    {
     "data": {
      "text/html": [
       "<div>\n",
       "<style scoped>\n",
       "    .dataframe tbody tr th:only-of-type {\n",
       "        vertical-align: middle;\n",
       "    }\n",
       "\n",
       "    .dataframe tbody tr th {\n",
       "        vertical-align: top;\n",
       "    }\n",
       "\n",
       "    .dataframe thead th {\n",
       "        text-align: right;\n",
       "    }\n",
       "</style>\n",
       "<table border=\"1\" class=\"dataframe\">\n",
       "  <thead>\n",
       "    <tr style=\"text-align: right;\">\n",
       "      <th></th>\n",
       "      <th>BALANCE</th>\n",
       "      <th>BALANCE_FREQUENCY</th>\n",
       "      <th>PURCHASES</th>\n",
       "      <th>ONEOFF_PURCHASES</th>\n",
       "      <th>INSTALLMENTS_PURCHASES</th>\n",
       "      <th>CASH_ADVANCE</th>\n",
       "      <th>PURCHASES_FREQUENCY</th>\n",
       "      <th>ONEOFF_PURCHASES_FREQUENCY</th>\n",
       "      <th>PURCHASES_INSTALLMENTS_FREQUENCY</th>\n",
       "      <th>CASH_ADVANCE_FREQUENCY</th>\n",
       "      <th>CASH_ADVANCE_TRX</th>\n",
       "      <th>PURCHASES_TRX</th>\n",
       "      <th>CREDIT_LIMIT</th>\n",
       "      <th>PAYMENTS</th>\n",
       "      <th>MINIMUM_PAYMENTS</th>\n",
       "      <th>PRC_FULL_PAYMENT</th>\n",
       "      <th>TENURE</th>\n",
       "    </tr>\n",
       "  </thead>\n",
       "  <tbody>\n",
       "    <tr>\n",
       "      <th>1508</th>\n",
       "      <td>2.593550</td>\n",
       "      <td>0.517164</td>\n",
       "      <td>-0.734487</td>\n",
       "      <td>-0.543505</td>\n",
       "      <td>-0.636612</td>\n",
       "      <td>2.092529</td>\n",
       "      <td>-1.225631</td>\n",
       "      <td>-0.668791</td>\n",
       "      <td>-0.910579</td>\n",
       "      <td>1.671141</td>\n",
       "      <td>0.935218</td>\n",
       "      <td>-0.797517</td>\n",
       "      <td>1.873623</td>\n",
       "      <td>-0.209818</td>\n",
       "      <td>0.650485</td>\n",
       "      <td>-0.531523</td>\n",
       "      <td>-4.697636</td>\n",
       "    </tr>\n",
       "    <tr>\n",
       "      <th>522</th>\n",
       "      <td>0.858238</td>\n",
       "      <td>0.517164</td>\n",
       "      <td>-0.672071</td>\n",
       "      <td>-0.462851</td>\n",
       "      <td>-0.636612</td>\n",
       "      <td>-0.342656</td>\n",
       "      <td>-1.015366</td>\n",
       "      <td>-0.379037</td>\n",
       "      <td>-0.910579</td>\n",
       "      <td>-0.165931</td>\n",
       "      <td>-0.079807</td>\n",
       "      <td>-0.731376</td>\n",
       "      <td>-0.408624</td>\n",
       "      <td>-0.643366</td>\n",
       "      <td>4.324431</td>\n",
       "      <td>-0.531523</td>\n",
       "      <td>0.312187</td>\n",
       "    </tr>\n",
       "    <tr>\n",
       "      <th>2990</th>\n",
       "      <td>0.213379</td>\n",
       "      <td>0.517164</td>\n",
       "      <td>0.900801</td>\n",
       "      <td>-0.501061</td>\n",
       "      <td>2.610758</td>\n",
       "      <td>0.565252</td>\n",
       "      <td>1.297564</td>\n",
       "      <td>-0.379037</td>\n",
       "      <td>1.636530</td>\n",
       "      <td>0.358950</td>\n",
       "      <td>-0.079807</td>\n",
       "      <td>1.715839</td>\n",
       "      <td>-0.749257</td>\n",
       "      <td>0.170691</td>\n",
       "      <td>1.121661</td>\n",
       "      <td>-0.531523</td>\n",
       "      <td>0.312187</td>\n",
       "    </tr>\n",
       "    <tr>\n",
       "      <th>3642</th>\n",
       "      <td>0.253344</td>\n",
       "      <td>0.517164</td>\n",
       "      <td>-0.016465</td>\n",
       "      <td>0.061404</td>\n",
       "      <td>-0.130188</td>\n",
       "      <td>-0.543984</td>\n",
       "      <td>1.297564</td>\n",
       "      <td>-0.089280</td>\n",
       "      <td>1.424272</td>\n",
       "      <td>-0.690806</td>\n",
       "      <td>-0.587319</td>\n",
       "      <td>0.525302</td>\n",
       "      <td>1.022039</td>\n",
       "      <td>0.674913</td>\n",
       "      <td>-0.090022</td>\n",
       "      <td>-0.244964</td>\n",
       "      <td>0.312187</td>\n",
       "    </tr>\n",
       "    <tr>\n",
       "      <th>3871</th>\n",
       "      <td>0.418133</td>\n",
       "      <td>0.517164</td>\n",
       "      <td>3.209581</td>\n",
       "      <td>3.189034</td>\n",
       "      <td>1.502490</td>\n",
       "      <td>-0.543984</td>\n",
       "      <td>1.297564</td>\n",
       "      <td>2.518514</td>\n",
       "      <td>1.636530</td>\n",
       "      <td>-0.690806</td>\n",
       "      <td>-0.587319</td>\n",
       "      <td>3.567786</td>\n",
       "      <td>0.919849</td>\n",
       "      <td>3.491540</td>\n",
       "      <td>-0.087120</td>\n",
       "      <td>-0.531523</td>\n",
       "      <td>0.312187</td>\n",
       "    </tr>\n",
       "    <tr>\n",
       "      <th>...</th>\n",
       "      <td>...</td>\n",
       "      <td>...</td>\n",
       "      <td>...</td>\n",
       "      <td>...</td>\n",
       "      <td>...</td>\n",
       "      <td>...</td>\n",
       "      <td>...</td>\n",
       "      <td>...</td>\n",
       "      <td>...</td>\n",
       "      <td>...</td>\n",
       "      <td>...</td>\n",
       "      <td>...</td>\n",
       "      <td>...</td>\n",
       "      <td>...</td>\n",
       "      <td>...</td>\n",
       "      <td>...</td>\n",
       "      <td>...</td>\n",
       "    </tr>\n",
       "    <tr>\n",
       "      <th>5207</th>\n",
       "      <td>-0.574120</td>\n",
       "      <td>0.517164</td>\n",
       "      <td>2.833688</td>\n",
       "      <td>2.916208</td>\n",
       "      <td>1.168602</td>\n",
       "      <td>-0.543984</td>\n",
       "      <td>1.087298</td>\n",
       "      <td>2.228757</td>\n",
       "      <td>0.999753</td>\n",
       "      <td>-0.690806</td>\n",
       "      <td>-0.587319</td>\n",
       "      <td>2.377249</td>\n",
       "      <td>-0.510814</td>\n",
       "      <td>1.635184</td>\n",
       "      <td>-0.561857</td>\n",
       "      <td>2.907203</td>\n",
       "      <td>0.312187</td>\n",
       "    </tr>\n",
       "    <tr>\n",
       "      <th>4614</th>\n",
       "      <td>-0.414277</td>\n",
       "      <td>0.517164</td>\n",
       "      <td>-0.734487</td>\n",
       "      <td>-0.543505</td>\n",
       "      <td>-0.636612</td>\n",
       "      <td>-0.398005</td>\n",
       "      <td>-1.225631</td>\n",
       "      <td>-0.668791</td>\n",
       "      <td>-0.910579</td>\n",
       "      <td>0.883825</td>\n",
       "      <td>0.427706</td>\n",
       "      <td>-0.797517</td>\n",
       "      <td>-1.021765</td>\n",
       "      <td>-0.663049</td>\n",
       "      <td>-0.399723</td>\n",
       "      <td>-0.531523</td>\n",
       "      <td>0.312187</td>\n",
       "    </tr>\n",
       "    <tr>\n",
       "      <th>1451</th>\n",
       "      <td>0.002840</td>\n",
       "      <td>0.517164</td>\n",
       "      <td>4.356295</td>\n",
       "      <td>2.693198</td>\n",
       "      <td>4.603925</td>\n",
       "      <td>-0.543984</td>\n",
       "      <td>1.297564</td>\n",
       "      <td>2.228757</td>\n",
       "      <td>1.636530</td>\n",
       "      <td>-0.690806</td>\n",
       "      <td>-0.587319</td>\n",
       "      <td>3.567786</td>\n",
       "      <td>1.192356</td>\n",
       "      <td>1.870551</td>\n",
       "      <td>3.691232</td>\n",
       "      <td>-0.531523</td>\n",
       "      <td>0.312187</td>\n",
       "    </tr>\n",
       "    <tr>\n",
       "      <th>2916</th>\n",
       "      <td>3.105349</td>\n",
       "      <td>0.517164</td>\n",
       "      <td>3.332365</td>\n",
       "      <td>4.522656</td>\n",
       "      <td>-0.340157</td>\n",
       "      <td>1.365858</td>\n",
       "      <td>0.666765</td>\n",
       "      <td>1.939003</td>\n",
       "      <td>0.150717</td>\n",
       "      <td>2.983332</td>\n",
       "      <td>3.726537</td>\n",
       "      <td>0.723725</td>\n",
       "      <td>1.022039</td>\n",
       "      <td>1.167665</td>\n",
       "      <td>3.406521</td>\n",
       "      <td>-0.531523</td>\n",
       "      <td>0.312187</td>\n",
       "    </tr>\n",
       "    <tr>\n",
       "      <th>618</th>\n",
       "      <td>1.976688</td>\n",
       "      <td>-0.003548</td>\n",
       "      <td>-0.380470</td>\n",
       "      <td>-0.086043</td>\n",
       "      <td>-0.636612</td>\n",
       "      <td>3.752569</td>\n",
       "      <td>-0.945277</td>\n",
       "      <td>-0.282452</td>\n",
       "      <td>-0.910579</td>\n",
       "      <td>2.808378</td>\n",
       "      <td>2.204000</td>\n",
       "      <td>-0.665235</td>\n",
       "      <td>0.511088</td>\n",
       "      <td>-0.032631</td>\n",
       "      <td>1.909972</td>\n",
       "      <td>-0.531523</td>\n",
       "      <td>-3.445180</td>\n",
       "    </tr>\n",
       "  </tbody>\n",
       "</table>\n",
       "<p>5203 rows × 17 columns</p>\n",
       "</div>"
      ],
      "text/plain": [
       "       BALANCE  BALANCE_FREQUENCY  PURCHASES  ONEOFF_PURCHASES  \\\n",
       "1508  2.593550           0.517164  -0.734487         -0.543505   \n",
       "522   0.858238           0.517164  -0.672071         -0.462851   \n",
       "2990  0.213379           0.517164   0.900801         -0.501061   \n",
       "3642  0.253344           0.517164  -0.016465          0.061404   \n",
       "3871  0.418133           0.517164   3.209581          3.189034   \n",
       "...        ...                ...        ...               ...   \n",
       "5207 -0.574120           0.517164   2.833688          2.916208   \n",
       "4614 -0.414277           0.517164  -0.734487         -0.543505   \n",
       "1451  0.002840           0.517164   4.356295          2.693198   \n",
       "2916  3.105349           0.517164   3.332365          4.522656   \n",
       "618   1.976688          -0.003548  -0.380470         -0.086043   \n",
       "\n",
       "      INSTALLMENTS_PURCHASES  CASH_ADVANCE  PURCHASES_FREQUENCY  \\\n",
       "1508               -0.636612      2.092529            -1.225631   \n",
       "522                -0.636612     -0.342656            -1.015366   \n",
       "2990                2.610758      0.565252             1.297564   \n",
       "3642               -0.130188     -0.543984             1.297564   \n",
       "3871                1.502490     -0.543984             1.297564   \n",
       "...                      ...           ...                  ...   \n",
       "5207                1.168602     -0.543984             1.087298   \n",
       "4614               -0.636612     -0.398005            -1.225631   \n",
       "1451                4.603925     -0.543984             1.297564   \n",
       "2916               -0.340157      1.365858             0.666765   \n",
       "618                -0.636612      3.752569            -0.945277   \n",
       "\n",
       "      ONEOFF_PURCHASES_FREQUENCY  PURCHASES_INSTALLMENTS_FREQUENCY  \\\n",
       "1508                   -0.668791                         -0.910579   \n",
       "522                    -0.379037                         -0.910579   \n",
       "2990                   -0.379037                          1.636530   \n",
       "3642                   -0.089280                          1.424272   \n",
       "3871                    2.518514                          1.636530   \n",
       "...                          ...                               ...   \n",
       "5207                    2.228757                          0.999753   \n",
       "4614                   -0.668791                         -0.910579   \n",
       "1451                    2.228757                          1.636530   \n",
       "2916                    1.939003                          0.150717   \n",
       "618                    -0.282452                         -0.910579   \n",
       "\n",
       "      CASH_ADVANCE_FREQUENCY  CASH_ADVANCE_TRX  PURCHASES_TRX  CREDIT_LIMIT  \\\n",
       "1508                1.671141          0.935218      -0.797517      1.873623   \n",
       "522                -0.165931         -0.079807      -0.731376     -0.408624   \n",
       "2990                0.358950         -0.079807       1.715839     -0.749257   \n",
       "3642               -0.690806         -0.587319       0.525302      1.022039   \n",
       "3871               -0.690806         -0.587319       3.567786      0.919849   \n",
       "...                      ...               ...            ...           ...   \n",
       "5207               -0.690806         -0.587319       2.377249     -0.510814   \n",
       "4614                0.883825          0.427706      -0.797517     -1.021765   \n",
       "1451               -0.690806         -0.587319       3.567786      1.192356   \n",
       "2916                2.983332          3.726537       0.723725      1.022039   \n",
       "618                 2.808378          2.204000      -0.665235      0.511088   \n",
       "\n",
       "      PAYMENTS  MINIMUM_PAYMENTS  PRC_FULL_PAYMENT    TENURE  \n",
       "1508 -0.209818          0.650485         -0.531523 -4.697636  \n",
       "522  -0.643366          4.324431         -0.531523  0.312187  \n",
       "2990  0.170691          1.121661         -0.531523  0.312187  \n",
       "3642  0.674913         -0.090022         -0.244964  0.312187  \n",
       "3871  3.491540         -0.087120         -0.531523  0.312187  \n",
       "...        ...               ...               ...       ...  \n",
       "5207  1.635184         -0.561857          2.907203  0.312187  \n",
       "4614 -0.663049         -0.399723         -0.531523  0.312187  \n",
       "1451  1.870551          3.691232         -0.531523  0.312187  \n",
       "2916  1.167665          3.406521         -0.531523  0.312187  \n",
       "618  -0.032631          1.909972         -0.531523 -3.445180  \n",
       "\n",
       "[5203 rows x 17 columns]"
      ]
     },
     "execution_count": 71,
     "metadata": {},
     "output_type": "execute_result"
    }
   ],
   "source": [
    "X_train"
   ]
  },
  {
   "cell_type": "code",
   "execution_count": 72,
   "metadata": {},
   "outputs": [
    {
     "data": {
      "text/html": [
       "<div>\n",
       "<style scoped>\n",
       "    .dataframe tbody tr th:only-of-type {\n",
       "        vertical-align: middle;\n",
       "    }\n",
       "\n",
       "    .dataframe tbody tr th {\n",
       "        vertical-align: top;\n",
       "    }\n",
       "\n",
       "    .dataframe thead th {\n",
       "        text-align: right;\n",
       "    }\n",
       "</style>\n",
       "<table border=\"1\" class=\"dataframe\">\n",
       "  <thead>\n",
       "    <tr style=\"text-align: right;\">\n",
       "      <th></th>\n",
       "      <th>BALANCE</th>\n",
       "      <th>BALANCE_FREQUENCY</th>\n",
       "      <th>PURCHASES</th>\n",
       "      <th>ONEOFF_PURCHASES</th>\n",
       "      <th>INSTALLMENTS_PURCHASES</th>\n",
       "      <th>CASH_ADVANCE</th>\n",
       "      <th>PURCHASES_FREQUENCY</th>\n",
       "      <th>ONEOFF_PURCHASES_FREQUENCY</th>\n",
       "      <th>PURCHASES_INSTALLMENTS_FREQUENCY</th>\n",
       "      <th>CASH_ADVANCE_FREQUENCY</th>\n",
       "      <th>CASH_ADVANCE_TRX</th>\n",
       "      <th>PURCHASES_TRX</th>\n",
       "      <th>CREDIT_LIMIT</th>\n",
       "      <th>PAYMENTS</th>\n",
       "      <th>MINIMUM_PAYMENTS</th>\n",
       "      <th>PRC_FULL_PAYMENT</th>\n",
       "      <th>TENURE</th>\n",
       "    </tr>\n",
       "  </thead>\n",
       "  <tbody>\n",
       "    <tr>\n",
       "      <th>2298</th>\n",
       "      <td>-0.791652</td>\n",
       "      <td>0.091127</td>\n",
       "      <td>-0.210112</td>\n",
       "      <td>-0.543505</td>\n",
       "      <td>0.426041</td>\n",
       "      <td>-0.543984</td>\n",
       "      <td>1.087298</td>\n",
       "      <td>-0.668791</td>\n",
       "      <td>1.424272</td>\n",
       "      <td>-0.690806</td>\n",
       "      <td>-0.587319</td>\n",
       "      <td>0.657584</td>\n",
       "      <td>-0.340497</td>\n",
       "      <td>-0.501382</td>\n",
       "      <td>-0.521953</td>\n",
       "      <td>1.031532</td>\n",
       "      <td>0.312187</td>\n",
       "    </tr>\n",
       "    <tr>\n",
       "      <th>5945</th>\n",
       "      <td>-0.775047</td>\n",
       "      <td>-0.420119</td>\n",
       "      <td>0.019190</td>\n",
       "      <td>0.430398</td>\n",
       "      <td>-0.636612</td>\n",
       "      <td>-0.543984</td>\n",
       "      <td>0.288286</td>\n",
       "      <td>1.417444</td>\n",
       "      <td>-0.910579</td>\n",
       "      <td>-0.690806</td>\n",
       "      <td>-0.587319</td>\n",
       "      <td>-0.202249</td>\n",
       "      <td>-0.953638</td>\n",
       "      <td>-0.310923</td>\n",
       "      <td>-0.623333</td>\n",
       "      <td>2.907203</td>\n",
       "      <td>-2.192724</td>\n",
       "    </tr>\n",
       "    <tr>\n",
       "      <th>3631</th>\n",
       "      <td>0.147834</td>\n",
       "      <td>0.517164</td>\n",
       "      <td>-0.386692</td>\n",
       "      <td>-0.155028</td>\n",
       "      <td>-0.541035</td>\n",
       "      <td>-0.543984</td>\n",
       "      <td>-0.384567</td>\n",
       "      <td>0.200474</td>\n",
       "      <td>-0.486060</td>\n",
       "      <td>-0.690806</td>\n",
       "      <td>-0.587319</td>\n",
       "      <td>-0.400671</td>\n",
       "      <td>-0.817384</td>\n",
       "      <td>-0.456853</td>\n",
       "      <td>0.097618</td>\n",
       "      <td>-0.531523</td>\n",
       "      <td>0.312187</td>\n",
       "    </tr>\n",
       "    <tr>\n",
       "      <th>3983</th>\n",
       "      <td>-0.295088</td>\n",
       "      <td>0.517164</td>\n",
       "      <td>0.228343</td>\n",
       "      <td>0.556219</td>\n",
       "      <td>-0.410081</td>\n",
       "      <td>-0.543984</td>\n",
       "      <td>1.087298</td>\n",
       "      <td>2.228757</td>\n",
       "      <td>0.150717</td>\n",
       "      <td>-0.690806</td>\n",
       "      <td>-0.587319</td>\n",
       "      <td>1.120571</td>\n",
       "      <td>0.851722</td>\n",
       "      <td>0.214100</td>\n",
       "      <td>-0.484325</td>\n",
       "      <td>-0.531523</td>\n",
       "      <td>0.312187</td>\n",
       "    </tr>\n",
       "    <tr>\n",
       "      <th>904</th>\n",
       "      <td>-0.211201</td>\n",
       "      <td>0.517164</td>\n",
       "      <td>-0.734487</td>\n",
       "      <td>-0.543505</td>\n",
       "      <td>-0.636612</td>\n",
       "      <td>-0.495567</td>\n",
       "      <td>-1.225631</td>\n",
       "      <td>-0.668791</td>\n",
       "      <td>-0.910579</td>\n",
       "      <td>0.358950</td>\n",
       "      <td>-0.079807</td>\n",
       "      <td>-0.797517</td>\n",
       "      <td>-1.021765</td>\n",
       "      <td>-0.785505</td>\n",
       "      <td>-0.438080</td>\n",
       "      <td>-0.531523</td>\n",
       "      <td>0.312187</td>\n",
       "    </tr>\n",
       "    <tr>\n",
       "      <th>...</th>\n",
       "      <td>...</td>\n",
       "      <td>...</td>\n",
       "      <td>...</td>\n",
       "      <td>...</td>\n",
       "      <td>...</td>\n",
       "      <td>...</td>\n",
       "      <td>...</td>\n",
       "      <td>...</td>\n",
       "      <td>...</td>\n",
       "      <td>...</td>\n",
       "      <td>...</td>\n",
       "      <td>...</td>\n",
       "      <td>...</td>\n",
       "      <td>...</td>\n",
       "      <td>...</td>\n",
       "      <td>...</td>\n",
       "      <td>...</td>\n",
       "    </tr>\n",
       "    <tr>\n",
       "      <th>4533</th>\n",
       "      <td>-0.776214</td>\n",
       "      <td>-2.465103</td>\n",
       "      <td>0.348056</td>\n",
       "      <td>0.855359</td>\n",
       "      <td>-0.636612</td>\n",
       "      <td>-0.543984</td>\n",
       "      <td>-0.805098</td>\n",
       "      <td>-0.089280</td>\n",
       "      <td>-0.910579</td>\n",
       "      <td>-0.690806</td>\n",
       "      <td>-0.587319</td>\n",
       "      <td>-0.665235</td>\n",
       "      <td>0.681405</td>\n",
       "      <td>1.397156</td>\n",
       "      <td>-0.648698</td>\n",
       "      <td>-0.531523</td>\n",
       "      <td>0.312187</td>\n",
       "    </tr>\n",
       "    <tr>\n",
       "      <th>6777</th>\n",
       "      <td>1.096458</td>\n",
       "      <td>-0.068638</td>\n",
       "      <td>-0.734487</td>\n",
       "      <td>-0.543505</td>\n",
       "      <td>-0.636612</td>\n",
       "      <td>1.649947</td>\n",
       "      <td>-1.225631</td>\n",
       "      <td>-0.668791</td>\n",
       "      <td>-0.910579</td>\n",
       "      <td>0.883825</td>\n",
       "      <td>-0.079807</td>\n",
       "      <td>-0.797517</td>\n",
       "      <td>-0.340497</td>\n",
       "      <td>-0.605052</td>\n",
       "      <td>0.137384</td>\n",
       "      <td>-0.531523</td>\n",
       "      <td>-4.697636</td>\n",
       "    </tr>\n",
       "    <tr>\n",
       "      <th>3523</th>\n",
       "      <td>-0.781008</td>\n",
       "      <td>0.517164</td>\n",
       "      <td>-0.471168</td>\n",
       "      <td>-0.543505</td>\n",
       "      <td>-0.102993</td>\n",
       "      <td>-0.543984</td>\n",
       "      <td>1.297564</td>\n",
       "      <td>-0.668791</td>\n",
       "      <td>1.424272</td>\n",
       "      <td>-0.690806</td>\n",
       "      <td>-0.587319</td>\n",
       "      <td>-0.003826</td>\n",
       "      <td>-0.953638</td>\n",
       "      <td>-0.688434</td>\n",
       "      <td>-0.531084</td>\n",
       "      <td>-0.531523</td>\n",
       "      <td>0.312187</td>\n",
       "    </tr>\n",
       "    <tr>\n",
       "      <th>3287</th>\n",
       "      <td>1.602883</td>\n",
       "      <td>0.517164</td>\n",
       "      <td>-0.734487</td>\n",
       "      <td>-0.543505</td>\n",
       "      <td>-0.636612</td>\n",
       "      <td>1.963473</td>\n",
       "      <td>-1.225631</td>\n",
       "      <td>-0.668791</td>\n",
       "      <td>-0.910579</td>\n",
       "      <td>2.458457</td>\n",
       "      <td>1.696487</td>\n",
       "      <td>-0.797517</td>\n",
       "      <td>0.681405</td>\n",
       "      <td>0.918616</td>\n",
       "      <td>0.255130</td>\n",
       "      <td>-0.531523</td>\n",
       "      <td>0.312187</td>\n",
       "    </tr>\n",
       "    <tr>\n",
       "      <th>668</th>\n",
       "      <td>-0.682635</td>\n",
       "      <td>0.517164</td>\n",
       "      <td>0.994201</td>\n",
       "      <td>1.161014</td>\n",
       "      <td>0.193462</td>\n",
       "      <td>-0.543984</td>\n",
       "      <td>1.297564</td>\n",
       "      <td>2.808268</td>\n",
       "      <td>0.999753</td>\n",
       "      <td>-0.690806</td>\n",
       "      <td>-0.587319</td>\n",
       "      <td>1.120571</td>\n",
       "      <td>-0.953638</td>\n",
       "      <td>-0.370892</td>\n",
       "      <td>-0.464175</td>\n",
       "      <td>-0.244964</td>\n",
       "      <td>0.312187</td>\n",
       "    </tr>\n",
       "  </tbody>\n",
       "</table>\n",
       "<p>2231 rows × 17 columns</p>\n",
       "</div>"
      ],
      "text/plain": [
       "       BALANCE  BALANCE_FREQUENCY  PURCHASES  ONEOFF_PURCHASES  \\\n",
       "2298 -0.791652           0.091127  -0.210112         -0.543505   \n",
       "5945 -0.775047          -0.420119   0.019190          0.430398   \n",
       "3631  0.147834           0.517164  -0.386692         -0.155028   \n",
       "3983 -0.295088           0.517164   0.228343          0.556219   \n",
       "904  -0.211201           0.517164  -0.734487         -0.543505   \n",
       "...        ...                ...        ...               ...   \n",
       "4533 -0.776214          -2.465103   0.348056          0.855359   \n",
       "6777  1.096458          -0.068638  -0.734487         -0.543505   \n",
       "3523 -0.781008           0.517164  -0.471168         -0.543505   \n",
       "3287  1.602883           0.517164  -0.734487         -0.543505   \n",
       "668  -0.682635           0.517164   0.994201          1.161014   \n",
       "\n",
       "      INSTALLMENTS_PURCHASES  CASH_ADVANCE  PURCHASES_FREQUENCY  \\\n",
       "2298                0.426041     -0.543984             1.087298   \n",
       "5945               -0.636612     -0.543984             0.288286   \n",
       "3631               -0.541035     -0.543984            -0.384567   \n",
       "3983               -0.410081     -0.543984             1.087298   \n",
       "904                -0.636612     -0.495567            -1.225631   \n",
       "...                      ...           ...                  ...   \n",
       "4533               -0.636612     -0.543984            -0.805098   \n",
       "6777               -0.636612      1.649947            -1.225631   \n",
       "3523               -0.102993     -0.543984             1.297564   \n",
       "3287               -0.636612      1.963473            -1.225631   \n",
       "668                 0.193462     -0.543984             1.297564   \n",
       "\n",
       "      ONEOFF_PURCHASES_FREQUENCY  PURCHASES_INSTALLMENTS_FREQUENCY  \\\n",
       "2298                   -0.668791                          1.424272   \n",
       "5945                    1.417444                         -0.910579   \n",
       "3631                    0.200474                         -0.486060   \n",
       "3983                    2.228757                          0.150717   \n",
       "904                    -0.668791                         -0.910579   \n",
       "...                          ...                               ...   \n",
       "4533                   -0.089280                         -0.910579   \n",
       "6777                   -0.668791                         -0.910579   \n",
       "3523                   -0.668791                          1.424272   \n",
       "3287                   -0.668791                         -0.910579   \n",
       "668                     2.808268                          0.999753   \n",
       "\n",
       "      CASH_ADVANCE_FREQUENCY  CASH_ADVANCE_TRX  PURCHASES_TRX  CREDIT_LIMIT  \\\n",
       "2298               -0.690806         -0.587319       0.657584     -0.340497   \n",
       "5945               -0.690806         -0.587319      -0.202249     -0.953638   \n",
       "3631               -0.690806         -0.587319      -0.400671     -0.817384   \n",
       "3983               -0.690806         -0.587319       1.120571      0.851722   \n",
       "904                 0.358950         -0.079807      -0.797517     -1.021765   \n",
       "...                      ...               ...            ...           ...   \n",
       "4533               -0.690806         -0.587319      -0.665235      0.681405   \n",
       "6777                0.883825         -0.079807      -0.797517     -0.340497   \n",
       "3523               -0.690806         -0.587319      -0.003826     -0.953638   \n",
       "3287                2.458457          1.696487      -0.797517      0.681405   \n",
       "668                -0.690806         -0.587319       1.120571     -0.953638   \n",
       "\n",
       "      PAYMENTS  MINIMUM_PAYMENTS  PRC_FULL_PAYMENT    TENURE  \n",
       "2298 -0.501382         -0.521953          1.031532  0.312187  \n",
       "5945 -0.310923         -0.623333          2.907203 -2.192724  \n",
       "3631 -0.456853          0.097618         -0.531523  0.312187  \n",
       "3983  0.214100         -0.484325         -0.531523  0.312187  \n",
       "904  -0.785505         -0.438080         -0.531523  0.312187  \n",
       "...        ...               ...               ...       ...  \n",
       "4533  1.397156         -0.648698         -0.531523  0.312187  \n",
       "6777 -0.605052          0.137384         -0.531523 -4.697636  \n",
       "3523 -0.688434         -0.531084         -0.531523  0.312187  \n",
       "3287  0.918616          0.255130         -0.531523  0.312187  \n",
       "668  -0.370892         -0.464175         -0.244964  0.312187  \n",
       "\n",
       "[2231 rows x 17 columns]"
      ]
     },
     "execution_count": 72,
     "metadata": {},
     "output_type": "execute_result"
    }
   ],
   "source": [
    "X_test"
   ]
  },
  {
   "cell_type": "code",
   "execution_count": 73,
   "metadata": {},
   "outputs": [
    {
     "data": {
      "text/html": [
       "<div>\n",
       "<style scoped>\n",
       "    .dataframe tbody tr th:only-of-type {\n",
       "        vertical-align: middle;\n",
       "    }\n",
       "\n",
       "    .dataframe tbody tr th {\n",
       "        vertical-align: top;\n",
       "    }\n",
       "\n",
       "    .dataframe thead th {\n",
       "        text-align: right;\n",
       "    }\n",
       "</style>\n",
       "<table border=\"1\" class=\"dataframe\">\n",
       "  <thead>\n",
       "    <tr style=\"text-align: right;\">\n",
       "      <th></th>\n",
       "      <th>cluster</th>\n",
       "    </tr>\n",
       "  </thead>\n",
       "  <tbody>\n",
       "    <tr>\n",
       "      <th>1508</th>\n",
       "      <td>3</td>\n",
       "    </tr>\n",
       "    <tr>\n",
       "      <th>522</th>\n",
       "      <td>2</td>\n",
       "    </tr>\n",
       "    <tr>\n",
       "      <th>2990</th>\n",
       "      <td>0</td>\n",
       "    </tr>\n",
       "    <tr>\n",
       "      <th>3642</th>\n",
       "      <td>0</td>\n",
       "    </tr>\n",
       "    <tr>\n",
       "      <th>3871</th>\n",
       "      <td>4</td>\n",
       "    </tr>\n",
       "    <tr>\n",
       "      <th>...</th>\n",
       "      <td>...</td>\n",
       "    </tr>\n",
       "    <tr>\n",
       "      <th>5207</th>\n",
       "      <td>4</td>\n",
       "    </tr>\n",
       "    <tr>\n",
       "      <th>4614</th>\n",
       "      <td>2</td>\n",
       "    </tr>\n",
       "    <tr>\n",
       "      <th>1451</th>\n",
       "      <td>4</td>\n",
       "    </tr>\n",
       "    <tr>\n",
       "      <th>2916</th>\n",
       "      <td>4</td>\n",
       "    </tr>\n",
       "    <tr>\n",
       "      <th>618</th>\n",
       "      <td>3</td>\n",
       "    </tr>\n",
       "  </tbody>\n",
       "</table>\n",
       "<p>5203 rows × 1 columns</p>\n",
       "</div>"
      ],
      "text/plain": [
       "      cluster\n",
       "1508        3\n",
       "522         2\n",
       "2990        0\n",
       "3642        0\n",
       "3871        4\n",
       "...       ...\n",
       "5207        4\n",
       "4614        2\n",
       "1451        4\n",
       "2916        4\n",
       "618         3\n",
       "\n",
       "[5203 rows x 1 columns]"
      ]
     },
     "execution_count": 73,
     "metadata": {},
     "output_type": "execute_result"
    }
   ],
   "source": [
    "y_train"
   ]
  },
  {
   "cell_type": "code",
   "execution_count": 74,
   "metadata": {},
   "outputs": [
    {
     "data": {
      "text/html": [
       "<div>\n",
       "<style scoped>\n",
       "    .dataframe tbody tr th:only-of-type {\n",
       "        vertical-align: middle;\n",
       "    }\n",
       "\n",
       "    .dataframe tbody tr th {\n",
       "        vertical-align: top;\n",
       "    }\n",
       "\n",
       "    .dataframe thead th {\n",
       "        text-align: right;\n",
       "    }\n",
       "</style>\n",
       "<table border=\"1\" class=\"dataframe\">\n",
       "  <thead>\n",
       "    <tr style=\"text-align: right;\">\n",
       "      <th></th>\n",
       "      <th>cluster</th>\n",
       "    </tr>\n",
       "  </thead>\n",
       "  <tbody>\n",
       "    <tr>\n",
       "      <th>2298</th>\n",
       "      <td>0</td>\n",
       "    </tr>\n",
       "    <tr>\n",
       "      <th>5945</th>\n",
       "      <td>5</td>\n",
       "    </tr>\n",
       "    <tr>\n",
       "      <th>3631</th>\n",
       "      <td>2</td>\n",
       "    </tr>\n",
       "    <tr>\n",
       "      <th>3983</th>\n",
       "      <td>5</td>\n",
       "    </tr>\n",
       "    <tr>\n",
       "      <th>904</th>\n",
       "      <td>2</td>\n",
       "    </tr>\n",
       "    <tr>\n",
       "      <th>...</th>\n",
       "      <td>...</td>\n",
       "    </tr>\n",
       "    <tr>\n",
       "      <th>4533</th>\n",
       "      <td>1</td>\n",
       "    </tr>\n",
       "    <tr>\n",
       "      <th>6777</th>\n",
       "      <td>2</td>\n",
       "    </tr>\n",
       "    <tr>\n",
       "      <th>3523</th>\n",
       "      <td>0</td>\n",
       "    </tr>\n",
       "    <tr>\n",
       "      <th>3287</th>\n",
       "      <td>3</td>\n",
       "    </tr>\n",
       "    <tr>\n",
       "      <th>668</th>\n",
       "      <td>5</td>\n",
       "    </tr>\n",
       "  </tbody>\n",
       "</table>\n",
       "<p>2231 rows × 1 columns</p>\n",
       "</div>"
      ],
      "text/plain": [
       "      cluster\n",
       "2298        0\n",
       "5945        5\n",
       "3631        2\n",
       "3983        5\n",
       "904         2\n",
       "...       ...\n",
       "4533        1\n",
       "6777        2\n",
       "3523        0\n",
       "3287        3\n",
       "668         5\n",
       "\n",
       "[2231 rows x 1 columns]"
      ]
     },
     "execution_count": 74,
     "metadata": {},
     "output_type": "execute_result"
    }
   ],
   "source": [
    "y_test"
   ]
  },
  {
   "cell_type": "code",
   "execution_count": 75,
   "metadata": {
    "execution": {
     "iopub.execute_input": "2020-12-16T08:22:01.004836Z",
     "iopub.status.busy": "2020-12-16T08:22:01.003977Z",
     "iopub.status.idle": "2020-12-16T08:22:01.117339Z",
     "shell.execute_reply": "2020-12-16T08:22:01.116639Z"
    },
    "papermill": {
     "duration": 0.159889,
     "end_time": "2020-12-16T08:22:01.117479",
     "exception": false,
     "start_time": "2020-12-16T08:22:00.957590",
     "status": "completed"
    },
    "tags": []
   },
   "outputs": [],
   "source": [
    "#Decision_Tree\n",
    "model= DecisionTreeClassifier(criterion=\"entropy\")\n",
    "model.fit(X_train, y_train)\n",
    "y_pred = model.predict(X_test)"
   ]
  },
  {
   "cell_type": "code",
   "execution_count": 76,
   "metadata": {},
   "outputs": [
    {
     "data": {
      "text/plain": [
       "array([0, 5, 2, ..., 0, 3, 5])"
      ]
     },
     "execution_count": 76,
     "metadata": {},
     "output_type": "execute_result"
    }
   ],
   "source": [
    "y_pred"
   ]
  },
  {
   "cell_type": "code",
   "execution_count": 77,
   "metadata": {},
   "outputs": [
    {
     "data": {
      "text/plain": [
       "array([[479,   6,   9,   8,   9,  10],\n",
       "       [  6, 314,   8,   4,   0,   6],\n",
       "       [  7,   9, 591,  23,   0,  10],\n",
       "       [  7,   4,  21, 268,   4,  11],\n",
       "       [ 11,   1,   0,   1, 146,  11],\n",
       "       [ 15,   3,  11,   0,  16, 202]], dtype=int64)"
      ]
     },
     "execution_count": 77,
     "metadata": {},
     "output_type": "execute_result"
    }
   ],
   "source": [
    "from sklearn.metrics import confusion_matrix\n",
    "cm = confusion_matrix(y_test, y_pred)\n",
    "cm"
   ]
  },
  {
   "cell_type": "code",
   "execution_count": 82,
   "metadata": {},
   "outputs": [
    {
     "data": {
      "text/plain": [
       "0.8964589870013447"
      ]
     },
     "execution_count": 82,
     "metadata": {},
     "output_type": "execute_result"
    }
   ],
   "source": [
    "from sklearn.metrics import accuracy_score\n",
    "ac = accuracy_score(y_test, y_pred)\n",
    "ac"
   ]
  },
  {
   "cell_type": "code",
   "execution_count": 80,
   "metadata": {},
   "outputs": [
    {
     "data": {
      "text/plain": [
       "2000"
      ]
     },
     "execution_count": 80,
     "metadata": {},
     "output_type": "execute_result"
    }
   ],
   "source": [
    "479+314+591+268+146+202"
   ]
  },
  {
   "cell_type": "code",
   "execution_count": 81,
   "metadata": {},
   "outputs": [
    {
     "data": {
      "text/plain": [
       "0.8964589870013447"
      ]
     },
     "execution_count": 81,
     "metadata": {},
     "output_type": "execute_result"
    }
   ],
   "source": [
    "2000/2231"
   ]
  },
  {
   "cell_type": "code",
   "execution_count": null,
   "metadata": {},
   "outputs": [],
   "source": []
  }
 ],
 "metadata": {
  "kernelspec": {
   "display_name": "Python 3",
   "language": "python",
   "name": "python3"
  },
  "language_info": {
   "codemirror_mode": {
    "name": "ipython",
    "version": 3
   },
   "file_extension": ".py",
   "mimetype": "text/x-python",
   "name": "python",
   "nbconvert_exporter": "python",
   "pygments_lexer": "ipython3",
   "version": "3.8.3"
  },
  "papermill": {
   "duration": 37.00701,
   "end_time": "2020-12-16T08:22:01.450161",
   "environment_variables": {},
   "exception": null,
   "input_path": "__notebook__.ipynb",
   "output_path": "__notebook__.ipynb",
   "parameters": {},
   "start_time": "2020-12-16T08:21:24.443151",
   "version": "2.1.0"
  }
 },
 "nbformat": 4,
 "nbformat_minor": 4
}
